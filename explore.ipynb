{
 "cells": [
  {
   "cell_type": "code",
   "execution_count": 1,
   "id": "5e8a4c26",
   "metadata": {},
   "outputs": [],
   "source": [
    "import pandas as pd\n",
    "import numpy as np\n",
    "import seaborn as sns\n",
    "import matplotlib.pyplot as plt\n",
    "from sklearn.model_selection import train_test_split\n",
    "from env import get_db_url"
   ]
  },
  {
   "cell_type": "markdown",
   "id": "21ae35bc",
   "metadata": {},
   "source": [
    "# Acquire data from SQL database\n",
    "    - rename columns from acquire phase\n",
    "    - only show Single family residental which is ID 261\n",
    "    - I don't want to see beds and baths with zero\n",
    "    - I only want transaction dates in 2017"
   ]
  },
  {
   "cell_type": "code",
   "execution_count": 2,
   "id": "c15c4cbb",
   "metadata": {},
   "outputs": [
    {
     "data": {
      "text/html": [
       "<div>\n",
       "<style scoped>\n",
       "    .dataframe tbody tr th:only-of-type {\n",
       "        vertical-align: middle;\n",
       "    }\n",
       "\n",
       "    .dataframe tbody tr th {\n",
       "        vertical-align: top;\n",
       "    }\n",
       "\n",
       "    .dataframe thead th {\n",
       "        text-align: right;\n",
       "    }\n",
       "</style>\n",
       "<table border=\"1\" class=\"dataframe\">\n",
       "  <thead>\n",
       "    <tr style=\"text-align: right;\">\n",
       "      <th></th>\n",
       "      <th>bedrooms</th>\n",
       "      <th>bathrooms</th>\n",
       "      <th>square_feet</th>\n",
       "      <th>lot_size</th>\n",
       "      <th>pool</th>\n",
       "      <th>zip_code</th>\n",
       "      <th>year_built</th>\n",
       "      <th>latitude</th>\n",
       "      <th>longitude</th>\n",
       "      <th>fips</th>\n",
       "      <th>assessed_value</th>\n",
       "      <th>tax_value</th>\n",
       "      <th>transaction_date</th>\n",
       "    </tr>\n",
       "  </thead>\n",
       "  <tbody>\n",
       "    <tr>\n",
       "      <th>0</th>\n",
       "      <td>4.0</td>\n",
       "      <td>2.0</td>\n",
       "      <td>3633.0</td>\n",
       "      <td>9826.0</td>\n",
       "      <td>NaN</td>\n",
       "      <td>97329.0</td>\n",
       "      <td>2005.0</td>\n",
       "      <td>34560018.0</td>\n",
       "      <td>-118169806.0</td>\n",
       "      <td>6037.0</td>\n",
       "      <td>296425.0</td>\n",
       "      <td>6941.39</td>\n",
       "      <td>2017-01-02</td>\n",
       "    </tr>\n",
       "    <tr>\n",
       "      <th>1</th>\n",
       "      <td>3.0</td>\n",
       "      <td>4.0</td>\n",
       "      <td>1620.0</td>\n",
       "      <td>NaN</td>\n",
       "      <td>NaN</td>\n",
       "      <td>96047.0</td>\n",
       "      <td>2011.0</td>\n",
       "      <td>33996200.0</td>\n",
       "      <td>-118438000.0</td>\n",
       "      <td>6037.0</td>\n",
       "      <td>847770.0</td>\n",
       "      <td>10244.94</td>\n",
       "      <td>2017-01-02</td>\n",
       "    </tr>\n",
       "    <tr>\n",
       "      <th>2</th>\n",
       "      <td>3.0</td>\n",
       "      <td>2.0</td>\n",
       "      <td>2077.0</td>\n",
       "      <td>6490.0</td>\n",
       "      <td>NaN</td>\n",
       "      <td>96152.0</td>\n",
       "      <td>1926.0</td>\n",
       "      <td>34012977.0</td>\n",
       "      <td>-118479243.0</td>\n",
       "      <td>6037.0</td>\n",
       "      <td>646760.0</td>\n",
       "      <td>7924.68</td>\n",
       "      <td>2017-01-02</td>\n",
       "    </tr>\n",
       "    <tr>\n",
       "      <th>3</th>\n",
       "      <td>3.0</td>\n",
       "      <td>1.0</td>\n",
       "      <td>1244.0</td>\n",
       "      <td>6021.0</td>\n",
       "      <td>NaN</td>\n",
       "      <td>96201.0</td>\n",
       "      <td>1950.0</td>\n",
       "      <td>33953559.0</td>\n",
       "      <td>-118083855.0</td>\n",
       "      <td>6037.0</td>\n",
       "      <td>169471.0</td>\n",
       "      <td>2532.88</td>\n",
       "      <td>2017-01-03</td>\n",
       "    </tr>\n",
       "    <tr>\n",
       "      <th>4</th>\n",
       "      <td>3.0</td>\n",
       "      <td>2.0</td>\n",
       "      <td>1300.0</td>\n",
       "      <td>4917.0</td>\n",
       "      <td>NaN</td>\n",
       "      <td>96193.0</td>\n",
       "      <td>1950.0</td>\n",
       "      <td>33897134.0</td>\n",
       "      <td>-118102953.0</td>\n",
       "      <td>6037.0</td>\n",
       "      <td>233266.0</td>\n",
       "      <td>3110.99</td>\n",
       "      <td>2017-01-03</td>\n",
       "    </tr>\n",
       "  </tbody>\n",
       "</table>\n",
       "</div>"
      ],
      "text/plain": [
       "   bedrooms  bathrooms  square_feet  lot_size  pool  zip_code  year_built  \\\n",
       "0       4.0        2.0       3633.0    9826.0   NaN   97329.0      2005.0   \n",
       "1       3.0        4.0       1620.0       NaN   NaN   96047.0      2011.0   \n",
       "2       3.0        2.0       2077.0    6490.0   NaN   96152.0      1926.0   \n",
       "3       3.0        1.0       1244.0    6021.0   NaN   96201.0      1950.0   \n",
       "4       3.0        2.0       1300.0    4917.0   NaN   96193.0      1950.0   \n",
       "\n",
       "     latitude    longitude    fips  assessed_value  tax_value transaction_date  \n",
       "0  34560018.0 -118169806.0  6037.0        296425.0    6941.39       2017-01-02  \n",
       "1  33996200.0 -118438000.0  6037.0        847770.0   10244.94       2017-01-02  \n",
       "2  34012977.0 -118479243.0  6037.0        646760.0    7924.68       2017-01-02  \n",
       "3  33953559.0 -118083855.0  6037.0        169471.0    2532.88       2017-01-03  \n",
       "4  33897134.0 -118102953.0  6037.0        233266.0    3110.99       2017-01-03  "
      ]
     },
     "execution_count": 2,
     "metadata": {},
     "output_type": "execute_result"
    }
   ],
   "source": [
    "# sql query from zillow database:\n",
    "\n",
    "sql = \"\"\"\n",
    "SELECT bedroomcnt AS bedrooms, bathroomcnt AS bathrooms, `calculatedfinishedsquarefeet` AS square_feet,  \n",
    "`lotsizesquarefeet` AS lot_size, poolcnt AS pool, `regionidzip` AS zip_code, yearbuilt AS year_built, latitude, \n",
    "longitude, fips, `taxvaluedollarcnt` AS assessed_value, `taxamount` AS tax_value, transactiondate AS transaction_date\n",
    "FROM properties_2017\n",
    "JOIN predictions_2017 USING (id)\n",
    "WHERE propertylandusetypeid = 261 AND bedroomcnt > 0 AND bathroomcnt > 0\n",
    "AND transactiondate >= '2017-01-01' AND transactiondate <= '2017-12-32'\n",
    "\"\"\"\n",
    "\n",
    "df = pd.read_sql(sql, get_db_url(\"zillow\"))\n",
    "df.head()"
   ]
  },
  {
   "cell_type": "code",
   "execution_count": 3,
   "id": "058ac91b",
   "metadata": {},
   "outputs": [
    {
     "data": {
      "text/plain": [
       "(55692, 13)"
      ]
     },
     "execution_count": 3,
     "metadata": {},
     "output_type": "execute_result"
    }
   ],
   "source": [
    "# Shows me how many rows and columns\n",
    "df.shape"
   ]
  },
  {
   "cell_type": "code",
   "execution_count": 4,
   "id": "c3c221d6",
   "metadata": {},
   "outputs": [
    {
     "data": {
      "text/plain": [
       "Index(['bedrooms', 'bathrooms', 'square_feet', 'lot_size', 'pool', 'zip_code',\n",
       "       'year_built', 'latitude', 'longitude', 'fips', 'assessed_value',\n",
       "       'tax_value', 'transaction_date'],\n",
       "      dtype='object')"
      ]
     },
     "execution_count": 4,
     "metadata": {},
     "output_type": "execute_result"
    }
   ],
   "source": [
    "# Lists the columns\n",
    "df.columns"
   ]
  },
  {
   "cell_type": "code",
   "execution_count": 5,
   "id": "2510c4fb",
   "metadata": {},
   "outputs": [
    {
     "data": {
      "text/plain": [
       "bedrooms            float64\n",
       "bathrooms           float64\n",
       "square_feet         float64\n",
       "lot_size            float64\n",
       "pool                float64\n",
       "zip_code            float64\n",
       "year_built          float64\n",
       "latitude            float64\n",
       "longitude           float64\n",
       "fips                float64\n",
       "assessed_value      float64\n",
       "tax_value           float64\n",
       "transaction_date     object\n",
       "dtype: object"
      ]
     },
     "execution_count": 5,
     "metadata": {},
     "output_type": "execute_result"
    }
   ],
   "source": [
    "# shows the data types for columns\n",
    "df.dtypes"
   ]
  },
  {
   "cell_type": "markdown",
   "id": "e4623b0c",
   "metadata": {},
   "source": [
    "### Will have to convert dtypes to integers in prepare"
   ]
  },
  {
   "cell_type": "code",
   "execution_count": 6,
   "id": "7f1c138c",
   "metadata": {},
   "outputs": [
    {
     "data": {
      "text/plain": [
       "bedrooms                0\n",
       "bathrooms               0\n",
       "square_feet             5\n",
       "lot_size              300\n",
       "pool                44757\n",
       "zip_code               64\n",
       "year_built             29\n",
       "latitude                0\n",
       "longitude               0\n",
       "fips                    0\n",
       "assessed_value          2\n",
       "tax_value              72\n",
       "transaction_date        0\n",
       "dtype: int64"
      ]
     },
     "execution_count": 6,
     "metadata": {},
     "output_type": "execute_result"
    }
   ],
   "source": [
    "# Shows me how many nulls are in each column\n",
    "df.isnull().sum()"
   ]
  },
  {
   "cell_type": "code",
   "execution_count": 7,
   "id": "4af26dfa",
   "metadata": {},
   "outputs": [
    {
     "name": "stdout",
     "output_type": "stream",
     "text": [
      "bedrooms\n",
      "0\n",
      "0.0\n",
      "1.0\n",
      "25.0\n",
      "bathrooms\n",
      "0\n",
      "0.0\n",
      "1.0\n",
      "20.0\n",
      "square_feet\n",
      "5\n",
      "0.008977950154420744\n",
      "320.0\n",
      "26345.0\n",
      "lot_size\n",
      "300\n",
      "0.5386770092652445\n",
      "500.0\n",
      "6971010.0\n",
      "pool\n",
      "44757\n",
      "80.36522301228185\n",
      "1.0\n",
      "1.0\n",
      "zip_code\n",
      "64\n",
      "0.11491776197658551\n",
      "95982.0\n",
      "399675.0\n",
      "year_built\n",
      "29\n",
      "0.05207211089564031\n",
      "1862.0\n",
      "2016.0\n",
      "latitude\n",
      "0\n",
      "0.0\n",
      "33340711.0\n",
      "34806946.0\n",
      "longitude\n",
      "0\n",
      "0.0\n",
      "-119448392.0\n",
      "-117555933.0\n",
      "fips\n",
      "0\n",
      "0.0\n",
      "6037.0\n",
      "6111.0\n",
      "assessed_value\n",
      "2\n",
      "0.0035911800617682973\n",
      "7584.0\n",
      "30166843.0\n",
      "tax_value\n",
      "72\n",
      "0.12928248222365868\n",
      "20.24\n",
      "342940.38\n",
      "transaction_date\n",
      "0\n",
      "0.0\n",
      "2017-01-02\n",
      "2017-09-21\n"
     ]
    }
   ],
   "source": [
    "# List all the columns, how many nulls are in each column, the percentage of nulls, and min and max of each column.\n",
    "for col in df.columns:\n",
    "    print(col)\n",
    "    print(df[col].isnull().sum())\n",
    "    print((df[col].isnull().sum()/55692)*100)\n",
    "    print(df[col].min())\n",
    "    print(df[col].max())"
   ]
  },
  {
   "cell_type": "code",
   "execution_count": 8,
   "id": "4bee2d06",
   "metadata": {},
   "outputs": [
    {
     "name": "stdout",
     "output_type": "stream",
     "text": [
      "bedrooms\n",
      "3.0     25011\n",
      "4.0     16572\n",
      "2.0      8740\n",
      "5.0      3971\n",
      "6.0       661\n",
      "1.0       582\n",
      "7.0       111\n",
      "8.0        33\n",
      "9.0         8\n",
      "25.0        1\n",
      "10.0        1\n",
      "11.0        1\n",
      "Name: bedrooms, dtype: int64\n",
      "-----------------\n",
      "bathrooms\n",
      "2.0     24532\n",
      "3.0     11151\n",
      "1.0     10614\n",
      "2.5      3723\n",
      "4.0      2147\n",
      "1.5       793\n",
      "5.0       780\n",
      "3.5       736\n",
      "4.5       506\n",
      "6.0       303\n",
      "5.5       165\n",
      "7.0       116\n",
      "8.0        37\n",
      "6.5        30\n",
      "9.0        26\n",
      "10.0       11\n",
      "7.5        10\n",
      "8.5         5\n",
      "11.0        3\n",
      "13.0        1\n",
      "9.5         1\n",
      "20.0        1\n",
      "19.5        1\n",
      "Name: bathrooms, dtype: int64\n",
      "-----------------\n",
      "square_feet\n",
      "1200.0    135\n",
      "1080.0    113\n",
      "1120.0    105\n",
      "1040.0     99\n",
      "1400.0     99\n",
      "         ... \n",
      "8584.0      1\n",
      "4903.0      1\n",
      "6161.0      1\n",
      "3893.0      1\n",
      "432.0       1\n",
      "Name: square_feet, Length: 4637, dtype: int64\n",
      "-----------------\n",
      "lot_size\n",
      "6000.0     1131\n",
      "5000.0      445\n",
      "7200.0      408\n",
      "7000.0      276\n",
      "6500.0      265\n",
      "           ... \n",
      "23428.0       1\n",
      "8357.0        1\n",
      "8222.0        1\n",
      "7183.0        1\n",
      "43537.0       1\n",
      "Name: lot_size, Length: 14221, dtype: int64\n",
      "-----------------\n",
      "pool\n",
      "1.0    10935\n",
      "Name: pool, dtype: int64\n",
      "-----------------\n",
      "zip_code\n",
      "97118.0    507\n",
      "96193.0    490\n",
      "97319.0    466\n",
      "97328.0    429\n",
      "97318.0    429\n",
      "          ... \n",
      "96289.0      2\n",
      "96148.0      1\n",
      "96467.0      1\n",
      "97177.0      1\n",
      "95996.0      1\n",
      "Name: zip_code, Length: 379, dtype: int64\n",
      "-----------------\n",
      "year_built\n",
      "1955.0    2162\n",
      "1950.0    1852\n",
      "1954.0    1839\n",
      "1956.0    1701\n",
      "1953.0    1588\n",
      "          ... \n",
      "1886.0       1\n",
      "1889.0       1\n",
      "1862.0       1\n",
      "1880.0       1\n",
      "1891.0       1\n",
      "Name: year_built, Length: 133, dtype: int64\n",
      "-----------------\n",
      "latitude\n",
      "33494800.0    6\n",
      "33733382.0    6\n",
      "33646579.0    6\n",
      "34487900.0    5\n",
      "34211295.0    5\n",
      "             ..\n",
      "33819577.0    1\n",
      "33811463.0    1\n",
      "33810305.0    1\n",
      "33812192.0    1\n",
      "34575327.0    1\n",
      "Name: latitude, Length: 53612, dtype: int64\n",
      "-----------------\n",
      "longitude\n",
      "-117934508.0    6\n",
      "-117670000.0    6\n",
      "-117902609.0    6\n",
      "-117873000.0    5\n",
      "-118172000.0    5\n",
      "               ..\n",
      "-117938679.0    1\n",
      "-117932265.0    1\n",
      "-117952991.0    1\n",
      "-117942654.0    1\n",
      "-118054267.0    1\n",
      "Name: longitude, Length: 54067, dtype: int64\n",
      "-----------------\n",
      "fips\n",
      "6037.0    37052\n",
      "6059.0    13906\n",
      "6111.0     4734\n",
      "Name: fips, dtype: int64\n",
      "-----------------\n",
      "assessed_value\n",
      "460000.0    24\n",
      "440000.0    22\n",
      "425000.0    22\n",
      "450000.0    22\n",
      "570000.0    21\n",
      "            ..\n",
      "391123.0     1\n",
      "108799.0     1\n",
      "73442.0      1\n",
      "683911.0     1\n",
      "198988.0     1\n",
      "Name: assessed_value, Length: 43613, dtype: int64\n",
      "-----------------\n",
      "tax_value\n",
      "3507.46     4\n",
      "3146.10     4\n",
      "4663.64     4\n",
      "10059.28    4\n",
      "4366.22     4\n",
      "           ..\n",
      "1107.78     1\n",
      "1318.88     1\n",
      "5954.06     1\n",
      "2537.54     1\n",
      "3331.81     1\n",
      "Name: tax_value, Length: 53674, dtype: int64\n",
      "-----------------\n",
      "transaction_date\n",
      "2017-06-30    884\n",
      "2017-05-31    846\n",
      "2017-05-26    711\n",
      "2017-07-28    669\n",
      "2017-04-28    666\n",
      "             ... \n",
      "2017-05-06      1\n",
      "2017-05-20      1\n",
      "2017-07-09      1\n",
      "2017-07-08      1\n",
      "2017-08-12      1\n",
      "Name: transaction_date, Length: 249, dtype: int64\n",
      "-----------------\n"
     ]
    }
   ],
   "source": [
    "for column in df.columns:\n",
    "    print(column)\n",
    "    print(df[column].value_counts())\n",
    "    print(\"-----------------\")"
   ]
  },
  {
   "cell_type": "markdown",
   "id": "7b652d91",
   "metadata": {},
   "source": [
    "### Takeaways so far:\n",
    "- Bedrooms can be an int\n",
    "- Bathrooms can stay a float to keep the .5 bathrooms\n",
    "- Year built, FIPS, and taxvaluedollarcnt can be converted to integers w/o data loss\n",
    "- lot size can be int\n",
    "- pool can be int\n",
    "- will have to drop N/As and fill with Zero"
   ]
  },
  {
   "cell_type": "markdown",
   "id": "ee202909",
   "metadata": {},
   "source": [
    "# Prepare Data"
   ]
  },
  {
   "cell_type": "code",
   "execution_count": 9,
   "id": "b21acac8",
   "metadata": {},
   "outputs": [],
   "source": [
    "# filling the N/As with zero on my column list above\n",
    "df = df.dropna(subset=['square_feet', 'lot_size', 'pool', 'zip_code', 'year_built', 'assessed_value', 'tax_value'])\n",
    "df = df.fillna(0)"
   ]
  },
  {
   "cell_type": "code",
   "execution_count": 10,
   "id": "ef8bf7d2",
   "metadata": {},
   "outputs": [],
   "source": [
    "# bedrooms, square_feet, lot_size, pool, zip_code, year_built, fips, assessed_value, tax_value convert to integers\n",
    "df[\"bedrooms\"] = df[\"bedrooms\"].astype(int)\n",
    "df[\"square_feet\"] = df[\"square_feet\"].astype(int)\n",
    "df[\"lot_size\"] = df[\"lot_size\"].astype(int)\n",
    "df[\"pool\"] = df[\"pool\"].astype(int)\n",
    "df[\"zip_code\"] = df[\"zip_code\"].astype(int)\n",
    "df[\"year_built\"] = df[\"year_built\"].astype(int)\n",
    "df[\"fips\"] = df[\"fips\"].astype(int)\n",
    "df[\"assessed_value\"] = df[\"assessed_value\"].astype(int)\n",
    "df[\"tax_value\"] = df[\"tax_value\"].astype(int)"
   ]
  },
  {
   "cell_type": "code",
   "execution_count": 11,
   "id": "6db8ec3b",
   "metadata": {},
   "outputs": [
    {
     "data": {
      "text/plain": [
       "bedrooms              int64\n",
       "bathrooms           float64\n",
       "square_feet           int64\n",
       "lot_size              int64\n",
       "pool                  int64\n",
       "zip_code              int64\n",
       "year_built            int64\n",
       "latitude            float64\n",
       "longitude           float64\n",
       "fips                  int64\n",
       "assessed_value        int64\n",
       "tax_value             int64\n",
       "transaction_date     object\n",
       "dtype: object"
      ]
     },
     "execution_count": 11,
     "metadata": {},
     "output_type": "execute_result"
    }
   ],
   "source": [
    "#check conversions were processed\n",
    "df.dtypes"
   ]
  },
  {
   "cell_type": "code",
   "execution_count": 12,
   "id": "f7a8371c",
   "metadata": {},
   "outputs": [
    {
     "data": {
      "text/plain": [
       "bedrooms            0\n",
       "bathrooms           0\n",
       "square_feet         0\n",
       "lot_size            0\n",
       "pool                0\n",
       "zip_code            0\n",
       "year_built          0\n",
       "latitude            0\n",
       "longitude           0\n",
       "fips                0\n",
       "assessed_value      0\n",
       "tax_value           0\n",
       "transaction_date    0\n",
       "dtype: int64"
      ]
     },
     "execution_count": 12,
     "metadata": {},
     "output_type": "execute_result"
    }
   ],
   "source": [
    "# check for nulls again\n",
    "df.isnull().sum()"
   ]
  },
  {
   "cell_type": "markdown",
   "id": "0e84ae17",
   "metadata": {},
   "source": [
    "# Findings and research\n",
    "- max bedrooms was 25. Lets narrow them down to the average household\n",
    "- average in 2017 was ~4 bedrooms. lets also go with 4 or less bathrooms\n",
    "    - source: https://www.humanprogress.org/dataset/number-of-bedrooms-in-new-u-s-single-family-homes/\n",
    "- square feet highest median of the three counties was 2192 so we will stick with under 3k\n",
    "    - source: https://fred.stlouisfed.org/categories/27521"
   ]
  },
  {
   "cell_type": "code",
   "execution_count": 13,
   "id": "54dafbc6",
   "metadata": {},
   "outputs": [],
   "source": [
    "# this will change my data to only include the following for these three columns\n",
    "df = df[df.bedrooms <= 6]\n",
    "df = df[df.bathrooms <= 6]\n",
    "df = df[df.square_feet <= 3000]"
   ]
  },
  {
   "cell_type": "code",
   "execution_count": 14,
   "id": "0c9baa8a",
   "metadata": {},
   "outputs": [
    {
     "data": {
      "text/plain": [
       "(8303, 13)"
      ]
     },
     "execution_count": 14,
     "metadata": {},
     "output_type": "execute_result"
    }
   ],
   "source": [
    "# shows how many rows and columns\n",
    "df.shape"
   ]
  },
  {
   "cell_type": "code",
   "execution_count": 15,
   "id": "27691023",
   "metadata": {},
   "outputs": [
    {
     "data": {
      "text/plain": [
       "3000"
      ]
     },
     "execution_count": 15,
     "metadata": {},
     "output_type": "execute_result"
    }
   ],
   "source": [
    "# shows how many square feet max and min\n",
    "df.square_feet.max()"
   ]
  },
  {
   "cell_type": "code",
   "execution_count": 16,
   "id": "84ad414a",
   "metadata": {},
   "outputs": [
    {
     "data": {
      "text/plain": [
       "673"
      ]
     },
     "execution_count": 16,
     "metadata": {},
     "output_type": "execute_result"
    }
   ],
   "source": [
    "df.square_feet.min()"
   ]
  },
  {
   "cell_type": "code",
   "execution_count": 17,
   "id": "3d4c7d8a",
   "metadata": {},
   "outputs": [
    {
     "data": {
      "text/plain": [
       "6037    5548\n",
       "6059    2179\n",
       "6111     576\n",
       "Name: fips, dtype: int64"
      ]
     },
     "execution_count": 17,
     "metadata": {},
     "output_type": "execute_result"
    }
   ],
   "source": [
    "# list the value counts for my fips column.\n",
    "df.fips.value_counts()"
   ]
  },
  {
   "cell_type": "markdown",
   "id": "152593af",
   "metadata": {},
   "source": [
    "### There are only three fips in my data\n",
    "- google fips code and found this source: https://www.nrcs.usda.gov/wps/portal/nrcs/detail/?cid=nrcs143_013697"
   ]
  },
  {
   "cell_type": "code",
   "execution_count": 18,
   "id": "d2082f4e",
   "metadata": {},
   "outputs": [
    {
     "data": {
      "text/html": [
       "<div>\n",
       "<style scoped>\n",
       "    .dataframe tbody tr th:only-of-type {\n",
       "        vertical-align: middle;\n",
       "    }\n",
       "\n",
       "    .dataframe tbody tr th {\n",
       "        vertical-align: top;\n",
       "    }\n",
       "\n",
       "    .dataframe thead th {\n",
       "        text-align: right;\n",
       "    }\n",
       "</style>\n",
       "<table border=\"1\" class=\"dataframe\">\n",
       "  <thead>\n",
       "    <tr style=\"text-align: right;\">\n",
       "      <th></th>\n",
       "      <th>fips</th>\n",
       "      <th>County</th>\n",
       "    </tr>\n",
       "  </thead>\n",
       "  <tbody>\n",
       "    <tr>\n",
       "      <th>0</th>\n",
       "      <td>6037</td>\n",
       "      <td>Los Angles</td>\n",
       "    </tr>\n",
       "    <tr>\n",
       "      <th>1</th>\n",
       "      <td>6059</td>\n",
       "      <td>Orange</td>\n",
       "    </tr>\n",
       "    <tr>\n",
       "      <th>2</th>\n",
       "      <td>6111</td>\n",
       "      <td>Ventura</td>\n",
       "    </tr>\n",
       "  </tbody>\n",
       "</table>\n",
       "</div>"
      ],
      "text/plain": [
       "   fips      County\n",
       "0  6037  Los Angles\n",
       "1  6059      Orange\n",
       "2  6111     Ventura"
      ]
     },
     "execution_count": 18,
     "metadata": {},
     "output_type": "execute_result"
    }
   ],
   "source": [
    "# convert \"fips\" to \"county\" from source\n",
    "fips = pd.DataFrame({\n",
    "    'fips': [6037, 6059, 6111],\n",
    "    'County':['Los Angles', 'Orange', 'Ventura']\n",
    "})\n",
    "fips.head()"
   ]
  },
  {
   "cell_type": "code",
   "execution_count": 19,
   "id": "58f98178",
   "metadata": {},
   "outputs": [],
   "source": [
    "#merge df created above and fips to existing df\n",
    "df = pd.merge(df, fips, left_on='fips', right_on='fips', how='left')"
   ]
  },
  {
   "cell_type": "markdown",
   "id": "4fddd5c4",
   "metadata": {},
   "source": [
    "### County will now be included in df"
   ]
  },
  {
   "cell_type": "code",
   "execution_count": 20,
   "id": "b04aa734",
   "metadata": {},
   "outputs": [
    {
     "data": {
      "text/html": [
       "<div>\n",
       "<style scoped>\n",
       "    .dataframe tbody tr th:only-of-type {\n",
       "        vertical-align: middle;\n",
       "    }\n",
       "\n",
       "    .dataframe tbody tr th {\n",
       "        vertical-align: top;\n",
       "    }\n",
       "\n",
       "    .dataframe thead th {\n",
       "        text-align: right;\n",
       "    }\n",
       "</style>\n",
       "<table border=\"1\" class=\"dataframe\">\n",
       "  <thead>\n",
       "    <tr style=\"text-align: right;\">\n",
       "      <th></th>\n",
       "      <th>bedrooms</th>\n",
       "      <th>bathrooms</th>\n",
       "      <th>square_feet</th>\n",
       "      <th>lot_size</th>\n",
       "      <th>pool</th>\n",
       "      <th>zip_code</th>\n",
       "      <th>year_built</th>\n",
       "      <th>latitude</th>\n",
       "      <th>longitude</th>\n",
       "      <th>fips</th>\n",
       "      <th>assessed_value</th>\n",
       "      <th>tax_value</th>\n",
       "      <th>transaction_date</th>\n",
       "      <th>County</th>\n",
       "    </tr>\n",
       "  </thead>\n",
       "  <tbody>\n",
       "    <tr>\n",
       "      <th>0</th>\n",
       "      <td>3</td>\n",
       "      <td>2.0</td>\n",
       "      <td>1222</td>\n",
       "      <td>5500</td>\n",
       "      <td>1</td>\n",
       "      <td>96193</td>\n",
       "      <td>1951</td>\n",
       "      <td>33889894.0</td>\n",
       "      <td>-118100732.0</td>\n",
       "      <td>6037</td>\n",
       "      <td>290492</td>\n",
       "      <td>3870</td>\n",
       "      <td>2017-01-03</td>\n",
       "      <td>Los Angles</td>\n",
       "    </tr>\n",
       "    <tr>\n",
       "      <th>1</th>\n",
       "      <td>4</td>\n",
       "      <td>2.5</td>\n",
       "      <td>1620</td>\n",
       "      <td>8531</td>\n",
       "      <td>1</td>\n",
       "      <td>97099</td>\n",
       "      <td>1967</td>\n",
       "      <td>34440918.0</td>\n",
       "      <td>-119293909.0</td>\n",
       "      <td>6111</td>\n",
       "      <td>369463</td>\n",
       "      <td>4585</td>\n",
       "      <td>2017-01-03</td>\n",
       "      <td>Ventura</td>\n",
       "    </tr>\n",
       "    <tr>\n",
       "      <th>2</th>\n",
       "      <td>4</td>\n",
       "      <td>4.0</td>\n",
       "      <td>2840</td>\n",
       "      <td>60548</td>\n",
       "      <td>1</td>\n",
       "      <td>97099</td>\n",
       "      <td>1966</td>\n",
       "      <td>34452715.0</td>\n",
       "      <td>-119266845.0</td>\n",
       "      <td>6111</td>\n",
       "      <td>610795</td>\n",
       "      <td>6970</td>\n",
       "      <td>2017-01-03</td>\n",
       "      <td>Ventura</td>\n",
       "    </tr>\n",
       "    <tr>\n",
       "      <th>3</th>\n",
       "      <td>3</td>\n",
       "      <td>2.0</td>\n",
       "      <td>1638</td>\n",
       "      <td>197651</td>\n",
       "      <td>1</td>\n",
       "      <td>97099</td>\n",
       "      <td>1989</td>\n",
       "      <td>34454777.0</td>\n",
       "      <td>-119197226.0</td>\n",
       "      <td>6111</td>\n",
       "      <td>653582</td>\n",
       "      <td>6997</td>\n",
       "      <td>2017-01-03</td>\n",
       "      <td>Ventura</td>\n",
       "    </tr>\n",
       "    <tr>\n",
       "      <th>4</th>\n",
       "      <td>3</td>\n",
       "      <td>2.0</td>\n",
       "      <td>1583</td>\n",
       "      <td>8000</td>\n",
       "      <td>1</td>\n",
       "      <td>97099</td>\n",
       "      <td>1961</td>\n",
       "      <td>34419017.0</td>\n",
       "      <td>-119296402.0</td>\n",
       "      <td>6111</td>\n",
       "      <td>465462</td>\n",
       "      <td>5644</td>\n",
       "      <td>2017-01-03</td>\n",
       "      <td>Ventura</td>\n",
       "    </tr>\n",
       "  </tbody>\n",
       "</table>\n",
       "</div>"
      ],
      "text/plain": [
       "   bedrooms  bathrooms  square_feet  lot_size  pool  zip_code  year_built  \\\n",
       "0         3        2.0         1222      5500     1     96193        1951   \n",
       "1         4        2.5         1620      8531     1     97099        1967   \n",
       "2         4        4.0         2840     60548     1     97099        1966   \n",
       "3         3        2.0         1638    197651     1     97099        1989   \n",
       "4         3        2.0         1583      8000     1     97099        1961   \n",
       "\n",
       "     latitude    longitude  fips  assessed_value  tax_value transaction_date  \\\n",
       "0  33889894.0 -118100732.0  6037          290492       3870       2017-01-03   \n",
       "1  34440918.0 -119293909.0  6111          369463       4585       2017-01-03   \n",
       "2  34452715.0 -119266845.0  6111          610795       6970       2017-01-03   \n",
       "3  34454777.0 -119197226.0  6111          653582       6997       2017-01-03   \n",
       "4  34419017.0 -119296402.0  6111          465462       5644       2017-01-03   \n",
       "\n",
       "       County  \n",
       "0  Los Angles  \n",
       "1     Ventura  \n",
       "2     Ventura  \n",
       "3     Ventura  \n",
       "4     Ventura  "
      ]
     },
     "execution_count": 20,
     "metadata": {},
     "output_type": "execute_result"
    }
   ],
   "source": [
    "# shows the changes I have made\n",
    "df.head()"
   ]
  },
  {
   "cell_type": "code",
   "execution_count": 21,
   "id": "e53f716d",
   "metadata": {},
   "outputs": [],
   "source": [
    "# drops the fips column since I added County\n",
    "df = df.drop(columns = 'fips')"
   ]
  },
  {
   "cell_type": "markdown",
   "id": "198fa182",
   "metadata": {},
   "source": [
    "### I want to look at transactions by month as well"
   ]
  },
  {
   "cell_type": "code",
   "execution_count": 23,
   "id": "80775b50",
   "metadata": {},
   "outputs": [],
   "source": [
    "# converting to string to use split method\n",
    "df['transaction_date'] = df.transaction_date.astype('str')\n",
    "\n",
    "# creating new feature as the second index (month) of the transacion date split\n",
    "df['transaction_month'] = df.transaction_date.str.split('-',expand=True)[1]"
   ]
  },
  {
   "cell_type": "code",
   "execution_count": 24,
   "id": "79e0b190",
   "metadata": {},
   "outputs": [
    {
     "data": {
      "text/html": [
       "<div>\n",
       "<style scoped>\n",
       "    .dataframe tbody tr th:only-of-type {\n",
       "        vertical-align: middle;\n",
       "    }\n",
       "\n",
       "    .dataframe tbody tr th {\n",
       "        vertical-align: top;\n",
       "    }\n",
       "\n",
       "    .dataframe thead th {\n",
       "        text-align: right;\n",
       "    }\n",
       "</style>\n",
       "<table border=\"1\" class=\"dataframe\">\n",
       "  <thead>\n",
       "    <tr style=\"text-align: right;\">\n",
       "      <th></th>\n",
       "      <th>bedrooms</th>\n",
       "      <th>bathrooms</th>\n",
       "      <th>square_feet</th>\n",
       "      <th>lot_size</th>\n",
       "      <th>pool</th>\n",
       "      <th>zip_code</th>\n",
       "      <th>year_built</th>\n",
       "      <th>latitude</th>\n",
       "      <th>longitude</th>\n",
       "      <th>assessed_value</th>\n",
       "      <th>tax_value</th>\n",
       "      <th>transaction_date</th>\n",
       "      <th>County</th>\n",
       "      <th>transaction_month</th>\n",
       "    </tr>\n",
       "  </thead>\n",
       "  <tbody>\n",
       "    <tr>\n",
       "      <th>0</th>\n",
       "      <td>3</td>\n",
       "      <td>2.0</td>\n",
       "      <td>1222</td>\n",
       "      <td>5500</td>\n",
       "      <td>1</td>\n",
       "      <td>96193</td>\n",
       "      <td>1951</td>\n",
       "      <td>33889894.0</td>\n",
       "      <td>-118100732.0</td>\n",
       "      <td>290492</td>\n",
       "      <td>3870</td>\n",
       "      <td>2017-01-03</td>\n",
       "      <td>Los Angles</td>\n",
       "      <td>01</td>\n",
       "    </tr>\n",
       "    <tr>\n",
       "      <th>1</th>\n",
       "      <td>4</td>\n",
       "      <td>2.5</td>\n",
       "      <td>1620</td>\n",
       "      <td>8531</td>\n",
       "      <td>1</td>\n",
       "      <td>97099</td>\n",
       "      <td>1967</td>\n",
       "      <td>34440918.0</td>\n",
       "      <td>-119293909.0</td>\n",
       "      <td>369463</td>\n",
       "      <td>4585</td>\n",
       "      <td>2017-01-03</td>\n",
       "      <td>Ventura</td>\n",
       "      <td>01</td>\n",
       "    </tr>\n",
       "    <tr>\n",
       "      <th>2</th>\n",
       "      <td>4</td>\n",
       "      <td>4.0</td>\n",
       "      <td>2840</td>\n",
       "      <td>60548</td>\n",
       "      <td>1</td>\n",
       "      <td>97099</td>\n",
       "      <td>1966</td>\n",
       "      <td>34452715.0</td>\n",
       "      <td>-119266845.0</td>\n",
       "      <td>610795</td>\n",
       "      <td>6970</td>\n",
       "      <td>2017-01-03</td>\n",
       "      <td>Ventura</td>\n",
       "      <td>01</td>\n",
       "    </tr>\n",
       "    <tr>\n",
       "      <th>3</th>\n",
       "      <td>3</td>\n",
       "      <td>2.0</td>\n",
       "      <td>1638</td>\n",
       "      <td>197651</td>\n",
       "      <td>1</td>\n",
       "      <td>97099</td>\n",
       "      <td>1989</td>\n",
       "      <td>34454777.0</td>\n",
       "      <td>-119197226.0</td>\n",
       "      <td>653582</td>\n",
       "      <td>6997</td>\n",
       "      <td>2017-01-03</td>\n",
       "      <td>Ventura</td>\n",
       "      <td>01</td>\n",
       "    </tr>\n",
       "    <tr>\n",
       "      <th>4</th>\n",
       "      <td>3</td>\n",
       "      <td>2.0</td>\n",
       "      <td>1583</td>\n",
       "      <td>8000</td>\n",
       "      <td>1</td>\n",
       "      <td>97099</td>\n",
       "      <td>1961</td>\n",
       "      <td>34419017.0</td>\n",
       "      <td>-119296402.0</td>\n",
       "      <td>465462</td>\n",
       "      <td>5644</td>\n",
       "      <td>2017-01-03</td>\n",
       "      <td>Ventura</td>\n",
       "      <td>01</td>\n",
       "    </tr>\n",
       "  </tbody>\n",
       "</table>\n",
       "</div>"
      ],
      "text/plain": [
       "   bedrooms  bathrooms  square_feet  lot_size  pool  zip_code  year_built  \\\n",
       "0         3        2.0         1222      5500     1     96193        1951   \n",
       "1         4        2.5         1620      8531     1     97099        1967   \n",
       "2         4        4.0         2840     60548     1     97099        1966   \n",
       "3         3        2.0         1638    197651     1     97099        1989   \n",
       "4         3        2.0         1583      8000     1     97099        1961   \n",
       "\n",
       "     latitude    longitude  assessed_value  tax_value transaction_date  \\\n",
       "0  33889894.0 -118100732.0          290492       3870       2017-01-03   \n",
       "1  34440918.0 -119293909.0          369463       4585       2017-01-03   \n",
       "2  34452715.0 -119266845.0          610795       6970       2017-01-03   \n",
       "3  34454777.0 -119197226.0          653582       6997       2017-01-03   \n",
       "4  34419017.0 -119296402.0          465462       5644       2017-01-03   \n",
       "\n",
       "       County transaction_month  \n",
       "0  Los Angles                01  \n",
       "1     Ventura                01  \n",
       "2     Ventura                01  \n",
       "3     Ventura                01  \n",
       "4     Ventura                01  "
      ]
     },
     "execution_count": 24,
     "metadata": {},
     "output_type": "execute_result"
    }
   ],
   "source": [
    "# double checks my work thus far\n",
    "df.head()"
   ]
  },
  {
   "cell_type": "code",
   "execution_count": 25,
   "id": "63cb7ccd",
   "metadata": {},
   "outputs": [
    {
     "name": "stdout",
     "output_type": "stream",
     "text": [
      "<class 'pandas.core.frame.DataFrame'>\n",
      "Int64Index: 8303 entries, 0 to 8302\n",
      "Data columns (total 14 columns):\n",
      " #   Column             Non-Null Count  Dtype  \n",
      "---  ------             --------------  -----  \n",
      " 0   bedrooms           8303 non-null   int64  \n",
      " 1   bathrooms          8303 non-null   float64\n",
      " 2   square_feet        8303 non-null   int64  \n",
      " 3   lot_size           8303 non-null   int64  \n",
      " 4   pool               8303 non-null   int64  \n",
      " 5   zip_code           8303 non-null   int64  \n",
      " 6   year_built         8303 non-null   int64  \n",
      " 7   latitude           8303 non-null   float64\n",
      " 8   longitude          8303 non-null   float64\n",
      " 9   assessed_value     8303 non-null   int64  \n",
      " 10  tax_value          8303 non-null   int64  \n",
      " 11  transaction_date   8303 non-null   object \n",
      " 12  County             8303 non-null   object \n",
      " 13  transaction_month  8303 non-null   object \n",
      "dtypes: float64(3), int64(8), object(3)\n",
      "memory usage: 973.0+ KB\n"
     ]
    }
   ],
   "source": [
    "df.info()"
   ]
  },
  {
   "cell_type": "markdown",
   "id": "00fcd1f4",
   "metadata": {},
   "source": [
    "# Explore data (on train only)"
   ]
  },
  {
   "cell_type": "code",
   "execution_count": 26,
   "id": "3899671d",
   "metadata": {},
   "outputs": [],
   "source": [
    "def split_zillow_data(df):\n",
    "    '''\n",
    "    This function performs split on zillow data\n",
    "    Returns train, validate, and test dfs.\n",
    "    70, 20, 10\n",
    "    '''\n",
    "    train_validate, test = train_test_split(df, test_size=.10, random_state=123)\n",
    "    train, validate = train_test_split(train_validate, test_size=.20, random_state=123)\n",
    "    return train, validate, test"
   ]
  },
  {
   "cell_type": "code",
   "execution_count": 27,
   "id": "ee888c58",
   "metadata": {},
   "outputs": [
    {
     "name": "stdout",
     "output_type": "stream",
     "text": [
      "(5977, 14) (1495, 14) (831, 14)\n"
     ]
    }
   ],
   "source": [
    "train_validate, test = train_test_split(df, test_size = 0.10, random_state = 123)\n",
    "train, validate = train_test_split(train_validate, test_size = 0.20, random_state = 123)\n",
    "print(train.shape, validate.shape, test.shape)"
   ]
  },
  {
   "cell_type": "code",
   "execution_count": 28,
   "id": "c694349a",
   "metadata": {},
   "outputs": [
    {
     "data": {
      "text/html": [
       "<div>\n",
       "<style scoped>\n",
       "    .dataframe tbody tr th:only-of-type {\n",
       "        vertical-align: middle;\n",
       "    }\n",
       "\n",
       "    .dataframe tbody tr th {\n",
       "        vertical-align: top;\n",
       "    }\n",
       "\n",
       "    .dataframe thead th {\n",
       "        text-align: right;\n",
       "    }\n",
       "</style>\n",
       "<table border=\"1\" class=\"dataframe\">\n",
       "  <thead>\n",
       "    <tr style=\"text-align: right;\">\n",
       "      <th></th>\n",
       "      <th>bedrooms</th>\n",
       "      <th>bathrooms</th>\n",
       "      <th>square_feet</th>\n",
       "      <th>lot_size</th>\n",
       "      <th>pool</th>\n",
       "      <th>zip_code</th>\n",
       "      <th>year_built</th>\n",
       "      <th>latitude</th>\n",
       "      <th>longitude</th>\n",
       "      <th>assessed_value</th>\n",
       "      <th>tax_value</th>\n",
       "      <th>transaction_date</th>\n",
       "      <th>County</th>\n",
       "      <th>transaction_month</th>\n",
       "    </tr>\n",
       "  </thead>\n",
       "  <tbody>\n",
       "    <tr>\n",
       "      <th>3232</th>\n",
       "      <td>4</td>\n",
       "      <td>2.0</td>\n",
       "      <td>1924</td>\n",
       "      <td>7456</td>\n",
       "      <td>1</td>\n",
       "      <td>96336</td>\n",
       "      <td>1975</td>\n",
       "      <td>34164939.0</td>\n",
       "      <td>-118748585.0</td>\n",
       "      <td>596053</td>\n",
       "      <td>6986</td>\n",
       "      <td>2017-04-28</td>\n",
       "      <td>Los Angles</td>\n",
       "      <td>04</td>\n",
       "    </tr>\n",
       "    <tr>\n",
       "      <th>111</th>\n",
       "      <td>4</td>\n",
       "      <td>2.0</td>\n",
       "      <td>2165</td>\n",
       "      <td>11336</td>\n",
       "      <td>1</td>\n",
       "      <td>96342</td>\n",
       "      <td>1966</td>\n",
       "      <td>34193539.0</td>\n",
       "      <td>-118659024.0</td>\n",
       "      <td>343798</td>\n",
       "      <td>4169</td>\n",
       "      <td>2017-01-06</td>\n",
       "      <td>Los Angles</td>\n",
       "      <td>01</td>\n",
       "    </tr>\n",
       "    <tr>\n",
       "      <th>2891</th>\n",
       "      <td>3</td>\n",
       "      <td>2.0</td>\n",
       "      <td>1873</td>\n",
       "      <td>8343</td>\n",
       "      <td>1</td>\n",
       "      <td>97079</td>\n",
       "      <td>1983</td>\n",
       "      <td>33886150.0</td>\n",
       "      <td>-117764068.0</td>\n",
       "      <td>278125</td>\n",
       "      <td>3163</td>\n",
       "      <td>2017-04-14</td>\n",
       "      <td>Orange</td>\n",
       "      <td>04</td>\n",
       "    </tr>\n",
       "    <tr>\n",
       "      <th>3799</th>\n",
       "      <td>3</td>\n",
       "      <td>3.0</td>\n",
       "      <td>1485</td>\n",
       "      <td>7675</td>\n",
       "      <td>1</td>\n",
       "      <td>96265</td>\n",
       "      <td>1931</td>\n",
       "      <td>34197437.0</td>\n",
       "      <td>-118150547.0</td>\n",
       "      <td>569542</td>\n",
       "      <td>6744</td>\n",
       "      <td>2017-05-15</td>\n",
       "      <td>Los Angles</td>\n",
       "      <td>05</td>\n",
       "    </tr>\n",
       "    <tr>\n",
       "      <th>3376</th>\n",
       "      <td>3</td>\n",
       "      <td>3.0</td>\n",
       "      <td>2178</td>\n",
       "      <td>14551</td>\n",
       "      <td>1</td>\n",
       "      <td>96027</td>\n",
       "      <td>1951</td>\n",
       "      <td>34123534.0</td>\n",
       "      <td>-118377602.0</td>\n",
       "      <td>1290000</td>\n",
       "      <td>15690</td>\n",
       "      <td>2017-05-01</td>\n",
       "      <td>Los Angles</td>\n",
       "      <td>05</td>\n",
       "    </tr>\n",
       "  </tbody>\n",
       "</table>\n",
       "</div>"
      ],
      "text/plain": [
       "      bedrooms  bathrooms  square_feet  lot_size  pool  zip_code  year_built  \\\n",
       "3232         4        2.0         1924      7456     1     96336        1975   \n",
       "111          4        2.0         2165     11336     1     96342        1966   \n",
       "2891         3        2.0         1873      8343     1     97079        1983   \n",
       "3799         3        3.0         1485      7675     1     96265        1931   \n",
       "3376         3        3.0         2178     14551     1     96027        1951   \n",
       "\n",
       "        latitude    longitude  assessed_value  tax_value transaction_date  \\\n",
       "3232  34164939.0 -118748585.0          596053       6986       2017-04-28   \n",
       "111   34193539.0 -118659024.0          343798       4169       2017-01-06   \n",
       "2891  33886150.0 -117764068.0          278125       3163       2017-04-14   \n",
       "3799  34197437.0 -118150547.0          569542       6744       2017-05-15   \n",
       "3376  34123534.0 -118377602.0         1290000      15690       2017-05-01   \n",
       "\n",
       "          County transaction_month  \n",
       "3232  Los Angles                04  \n",
       "111   Los Angles                01  \n",
       "2891      Orange                04  \n",
       "3799  Los Angles                05  \n",
       "3376  Los Angles                05  "
      ]
     },
     "execution_count": 28,
     "metadata": {},
     "output_type": "execute_result"
    }
   ],
   "source": [
    "train.head()"
   ]
  },
  {
   "cell_type": "code",
   "execution_count": 29,
   "id": "67d082e7",
   "metadata": {},
   "outputs": [
    {
     "data": {
      "text/plain": [
       "399675"
      ]
     },
     "execution_count": 29,
     "metadata": {},
     "output_type": "execute_result"
    }
   ],
   "source": [
    "train.zip_code.max()"
   ]
  },
  {
   "cell_type": "code",
   "execution_count": 30,
   "id": "783ca8dc",
   "metadata": {},
   "outputs": [
    {
     "data": {
      "text/plain": [
       "95985"
      ]
     },
     "execution_count": 30,
     "metadata": {},
     "output_type": "execute_result"
    }
   ],
   "source": [
    "train.zip_code.min()"
   ]
  },
  {
   "cell_type": "code",
   "execution_count": 31,
   "id": "4fb8764f",
   "metadata": {},
   "outputs": [
    {
     "data": {
      "text/html": [
       "<div>\n",
       "<style scoped>\n",
       "    .dataframe tbody tr th:only-of-type {\n",
       "        vertical-align: middle;\n",
       "    }\n",
       "\n",
       "    .dataframe tbody tr th {\n",
       "        vertical-align: top;\n",
       "    }\n",
       "\n",
       "    .dataframe thead th {\n",
       "        text-align: right;\n",
       "    }\n",
       "</style>\n",
       "<table border=\"1\" class=\"dataframe\">\n",
       "  <thead>\n",
       "    <tr style=\"text-align: right;\">\n",
       "      <th></th>\n",
       "      <th>bedrooms</th>\n",
       "      <th>bathrooms</th>\n",
       "      <th>square_feet</th>\n",
       "      <th>lot_size</th>\n",
       "      <th>pool</th>\n",
       "      <th>zip_code</th>\n",
       "      <th>year_built</th>\n",
       "      <th>latitude</th>\n",
       "      <th>longitude</th>\n",
       "      <th>assessed_value</th>\n",
       "      <th>tax_value</th>\n",
       "      <th>transaction_date</th>\n",
       "      <th>County</th>\n",
       "      <th>transaction_month</th>\n",
       "    </tr>\n",
       "  </thead>\n",
       "  <tbody>\n",
       "    <tr>\n",
       "      <th>1022</th>\n",
       "      <td>3</td>\n",
       "      <td>2.0</td>\n",
       "      <td>1895</td>\n",
       "      <td>15772</td>\n",
       "      <td>1</td>\n",
       "      <td>399675</td>\n",
       "      <td>1962</td>\n",
       "      <td>34153603.0</td>\n",
       "      <td>-117953027.0</td>\n",
       "      <td>719700</td>\n",
       "      <td>8945</td>\n",
       "      <td>2017-02-14</td>\n",
       "      <td>Los Angles</td>\n",
       "      <td>02</td>\n",
       "    </tr>\n",
       "  </tbody>\n",
       "</table>\n",
       "</div>"
      ],
      "text/plain": [
       "      bedrooms  bathrooms  square_feet  lot_size  pool  zip_code  year_built  \\\n",
       "1022         3        2.0         1895     15772     1    399675        1962   \n",
       "\n",
       "        latitude    longitude  assessed_value  tax_value transaction_date  \\\n",
       "1022  34153603.0 -117953027.0          719700       8945       2017-02-14   \n",
       "\n",
       "          County transaction_month  \n",
       "1022  Los Angles                02  "
      ]
     },
     "execution_count": 31,
     "metadata": {},
     "output_type": "execute_result"
    }
   ],
   "source": [
    "# shows me the rows with this zip code\n",
    "train.loc[train['zip_code'] == 399675]"
   ]
  },
  {
   "cell_type": "code",
   "execution_count": 32,
   "id": "e6d248d9",
   "metadata": {},
   "outputs": [
    {
     "data": {
      "text/html": [
       "<div>\n",
       "<style scoped>\n",
       "    .dataframe tbody tr th:only-of-type {\n",
       "        vertical-align: middle;\n",
       "    }\n",
       "\n",
       "    .dataframe tbody tr th {\n",
       "        vertical-align: top;\n",
       "    }\n",
       "\n",
       "    .dataframe thead th {\n",
       "        text-align: right;\n",
       "    }\n",
       "</style>\n",
       "<table border=\"1\" class=\"dataframe\">\n",
       "  <thead>\n",
       "    <tr style=\"text-align: right;\">\n",
       "      <th></th>\n",
       "      <th>bedrooms</th>\n",
       "      <th>bathrooms</th>\n",
       "      <th>square_feet</th>\n",
       "      <th>lot_size</th>\n",
       "      <th>pool</th>\n",
       "      <th>zip_code</th>\n",
       "      <th>year_built</th>\n",
       "      <th>latitude</th>\n",
       "      <th>longitude</th>\n",
       "      <th>assessed_value</th>\n",
       "      <th>tax_value</th>\n",
       "      <th>transaction_date</th>\n",
       "      <th>County</th>\n",
       "      <th>transaction_month</th>\n",
       "    </tr>\n",
       "  </thead>\n",
       "  <tbody>\n",
       "    <tr>\n",
       "      <th>1022</th>\n",
       "      <td>3</td>\n",
       "      <td>2.0</td>\n",
       "      <td>1895</td>\n",
       "      <td>15772</td>\n",
       "      <td>1</td>\n",
       "      <td>399675</td>\n",
       "      <td>1962</td>\n",
       "      <td>34153603.0</td>\n",
       "      <td>-117953027.0</td>\n",
       "      <td>719700</td>\n",
       "      <td>8945</td>\n",
       "      <td>2017-02-14</td>\n",
       "      <td>Los Angles</td>\n",
       "      <td>02</td>\n",
       "    </tr>\n",
       "  </tbody>\n",
       "</table>\n",
       "</div>"
      ],
      "text/plain": [
       "      bedrooms  bathrooms  square_feet  lot_size  pool  zip_code  year_built  \\\n",
       "1022         3        2.0         1895     15772     1    399675        1962   \n",
       "\n",
       "        latitude    longitude  assessed_value  tax_value transaction_date  \\\n",
       "1022  34153603.0 -117953027.0          719700       8945       2017-02-14   \n",
       "\n",
       "          County transaction_month  \n",
       "1022  Los Angles                02  "
      ]
     },
     "execution_count": 32,
     "metadata": {},
     "output_type": "execute_result"
    }
   ],
   "source": [
    "# another code to show me rows with this zip code\n",
    "train[train.zip_code == 399675]"
   ]
  },
  {
   "cell_type": "code",
   "execution_count": 33,
   "id": "8956faf0",
   "metadata": {},
   "outputs": [
    {
     "data": {
      "text/plain": [
       "<AxesSubplot:xlabel='transaction_month', ylabel='tax_value'>"
      ]
     },
     "execution_count": 33,
     "metadata": {},
     "output_type": "execute_result"
    },
    {
     "data": {
      "image/png": "[encoded data removed]",
      "text/plain": [
       "<Figure size 432x288 with 1 Axes>"
      ]
     },
     "metadata": {
      "needs_background": "light"
     },
     "output_type": "display_data"
    }
   ],
   "source": [
    "sns.scatterplot(x=train.transaction_month, y=train.tax_value)"
   ]
  },
  {
   "cell_type": "code",
   "execution_count": null,
   "id": "4398626c",
   "metadata": {},
   "outputs": [],
   "source": []
  }
 ],
 "metadata": {
  "kernelspec": {
   "display_name": "Python 3 (ipykernel)",
   "language": "python",
   "name": "python3"
  },
  "language_info": {
   "codemirror_mode": {
    "name": "ipython",
    "version": 3
   },
   "file_extension": ".py",
   "mimetype": "text/x-python",
   "name": "python",
   "nbconvert_exporter": "python",
   "pygments_lexer": "ipython3",
   "version": "3.9.7"
  }
 },
 "nbformat": 4,
 "nbformat_minor": 5
}
