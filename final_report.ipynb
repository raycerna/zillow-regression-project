{
 "cells": [
  {
   "cell_type": "code",
   "execution_count": 1,
   "id": "7778797e",
   "metadata": {},
   "outputs": [],
   "source": [
    "import pandas as pd\n",
    "import numpy as np\n",
    "import seaborn as sns\n",
    "import matplotlib.pyplot as plt\n",
    "from scipy import stats\n",
    "from pydataset import data\n",
    "from sklearn.metrics import mean_squared_error\n",
    "from math import sqrt\n",
    "from statsmodels.formula.api import ols\n",
    "from sklearn.model_selection import train_test_split\n",
    "from sklearn.linear_model import LinearRegression, LassoLars, TweedieRegressor\n",
    "from env import get_db_url\n",
    "import acquire\n",
    "import prepare\n",
    "from prepare import percentage_stacked_plot\n",
    "import warnings\n",
    "warnings.filterwarnings(\"ignore\")"
   ]
  },
  {
   "cell_type": "markdown",
   "id": "1eb59f33",
   "metadata": {},
   "source": [
    "# Project Overview and Goals\n",
    "\n",
    "The goal of this project is to find the key drivers of property tax value for single family properties that had a transaction in 2017. The scenario is that a Zillow Data Science Team has a model ready, but they are looking for insights that can help improve it. This project will give recommendations on a way to make a better model. It will also give me an opportunity to practice the data science pipeline to include Acquire, Prepare, Exploring, and Modeling.\n",
    "\n",
    "- Construct an ML Regression model that predict propery tax assessed values ('taxvaluedollarcnt') of Single Family Properties using attributes of the properties.\n",
    "\n",
    "- Find the key drivers of property value for single family properties. \n",
    "\n",
    "- Deliver a report that the data science team can read through and replicate, understand what steps were taken, why and what the outcome was.\n",
    "\n",
    "- Make recommendations on what works or doesn't work in prediction these homes' values."
   ]
  },
  {
   "cell_type": "markdown",
   "id": "760f0088",
   "metadata": {},
   "source": [
    "# Data Acquisition"
   ]
  },
  {
   "cell_type": "code",
   "execution_count": 2,
   "id": "c9d604ce",
   "metadata": {},
   "outputs": [
    {
     "data": {
      "text/html": [
       "<div>\n",
       "<style scoped>\n",
       "    .dataframe tbody tr th:only-of-type {\n",
       "        vertical-align: middle;\n",
       "    }\n",
       "\n",
       "    .dataframe tbody tr th {\n",
       "        vertical-align: top;\n",
       "    }\n",
       "\n",
       "    .dataframe thead th {\n",
       "        text-align: right;\n",
       "    }\n",
       "</style>\n",
       "<table border=\"1\" class=\"dataframe\">\n",
       "  <thead>\n",
       "    <tr style=\"text-align: right;\">\n",
       "      <th></th>\n",
       "      <th>bedrooms</th>\n",
       "      <th>bathrooms</th>\n",
       "      <th>square_feet</th>\n",
       "      <th>lot_size</th>\n",
       "      <th>pool</th>\n",
       "      <th>zip_code</th>\n",
       "      <th>year_built</th>\n",
       "      <th>latitude</th>\n",
       "      <th>longitude</th>\n",
       "      <th>fips</th>\n",
       "      <th>tax_value</th>\n",
       "      <th>tax_amount</th>\n",
       "      <th>transaction_date</th>\n",
       "      <th>log_error</th>\n",
       "    </tr>\n",
       "  </thead>\n",
       "  <tbody>\n",
       "    <tr>\n",
       "      <th>0</th>\n",
       "      <td>4.0</td>\n",
       "      <td>2.0</td>\n",
       "      <td>3633.0</td>\n",
       "      <td>9826.0</td>\n",
       "      <td>NaN</td>\n",
       "      <td>97329.0</td>\n",
       "      <td>2005.0</td>\n",
       "      <td>34560018.0</td>\n",
       "      <td>-118169806.0</td>\n",
       "      <td>6037.0</td>\n",
       "      <td>296425.0</td>\n",
       "      <td>6941.39</td>\n",
       "      <td>2017-01-02</td>\n",
       "      <td>0.042463</td>\n",
       "    </tr>\n",
       "    <tr>\n",
       "      <th>1</th>\n",
       "      <td>3.0</td>\n",
       "      <td>4.0</td>\n",
       "      <td>1620.0</td>\n",
       "      <td>NaN</td>\n",
       "      <td>NaN</td>\n",
       "      <td>96047.0</td>\n",
       "      <td>2011.0</td>\n",
       "      <td>33996200.0</td>\n",
       "      <td>-118438000.0</td>\n",
       "      <td>6037.0</td>\n",
       "      <td>847770.0</td>\n",
       "      <td>10244.94</td>\n",
       "      <td>2017-01-02</td>\n",
       "      <td>-0.019546</td>\n",
       "    </tr>\n",
       "    <tr>\n",
       "      <th>2</th>\n",
       "      <td>3.0</td>\n",
       "      <td>2.0</td>\n",
       "      <td>2077.0</td>\n",
       "      <td>6490.0</td>\n",
       "      <td>NaN</td>\n",
       "      <td>96152.0</td>\n",
       "      <td>1926.0</td>\n",
       "      <td>34012977.0</td>\n",
       "      <td>-118479243.0</td>\n",
       "      <td>6037.0</td>\n",
       "      <td>646760.0</td>\n",
       "      <td>7924.68</td>\n",
       "      <td>2017-01-02</td>\n",
       "      <td>-0.040807</td>\n",
       "    </tr>\n",
       "    <tr>\n",
       "      <th>3</th>\n",
       "      <td>3.0</td>\n",
       "      <td>1.0</td>\n",
       "      <td>1244.0</td>\n",
       "      <td>6021.0</td>\n",
       "      <td>NaN</td>\n",
       "      <td>96201.0</td>\n",
       "      <td>1950.0</td>\n",
       "      <td>33953559.0</td>\n",
       "      <td>-118083855.0</td>\n",
       "      <td>6037.0</td>\n",
       "      <td>169471.0</td>\n",
       "      <td>2532.88</td>\n",
       "      <td>2017-01-03</td>\n",
       "      <td>0.042412</td>\n",
       "    </tr>\n",
       "    <tr>\n",
       "      <th>4</th>\n",
       "      <td>3.0</td>\n",
       "      <td>2.0</td>\n",
       "      <td>1300.0</td>\n",
       "      <td>4917.0</td>\n",
       "      <td>NaN</td>\n",
       "      <td>96193.0</td>\n",
       "      <td>1950.0</td>\n",
       "      <td>33897134.0</td>\n",
       "      <td>-118102953.0</td>\n",
       "      <td>6037.0</td>\n",
       "      <td>233266.0</td>\n",
       "      <td>3110.99</td>\n",
       "      <td>2017-01-03</td>\n",
       "      <td>-0.000908</td>\n",
       "    </tr>\n",
       "  </tbody>\n",
       "</table>\n",
       "</div>"
      ],
      "text/plain": [
       "   bedrooms  bathrooms  square_feet  lot_size  pool  zip_code  year_built  \\\n",
       "0       4.0        2.0       3633.0    9826.0   NaN   97329.0      2005.0   \n",
       "1       3.0        4.0       1620.0       NaN   NaN   96047.0      2011.0   \n",
       "2       3.0        2.0       2077.0    6490.0   NaN   96152.0      1926.0   \n",
       "3       3.0        1.0       1244.0    6021.0   NaN   96201.0      1950.0   \n",
       "4       3.0        2.0       1300.0    4917.0   NaN   96193.0      1950.0   \n",
       "\n",
       "     latitude    longitude    fips  tax_value  tax_amount transaction_date  \\\n",
       "0  34560018.0 -118169806.0  6037.0   296425.0     6941.39       2017-01-02   \n",
       "1  33996200.0 -118438000.0  6037.0   847770.0    10244.94       2017-01-02   \n",
       "2  34012977.0 -118479243.0  6037.0   646760.0     7924.68       2017-01-02   \n",
       "3  33953559.0 -118083855.0  6037.0   169471.0     2532.88       2017-01-03   \n",
       "4  33897134.0 -118102953.0  6037.0   233266.0     3110.99       2017-01-03   \n",
       "\n",
       "   log_error  \n",
       "0   0.042463  \n",
       "1  -0.019546  \n",
       "2  -0.040807  \n",
       "3   0.042412  \n",
       "4  -0.000908  "
      ]
     },
     "execution_count": 2,
     "metadata": {},
     "output_type": "execute_result"
    }
   ],
   "source": [
    "# acquires data from acquire.py file\n",
    "df = acquire.get_zillow_data()\n",
    "df.head()"
   ]
  },
  {
   "cell_type": "markdown",
   "id": "e186200a",
   "metadata": {},
   "source": [
    "# Data Preparation "
   ]
  },
  {
   "cell_type": "code",
   "execution_count": 3,
   "id": "e524f8c6",
   "metadata": {},
   "outputs": [
    {
     "data": {
      "text/html": [
       "<div>\n",
       "<style scoped>\n",
       "    .dataframe tbody tr th:only-of-type {\n",
       "        vertical-align: middle;\n",
       "    }\n",
       "\n",
       "    .dataframe tbody tr th {\n",
       "        vertical-align: top;\n",
       "    }\n",
       "\n",
       "    .dataframe thead th {\n",
       "        text-align: right;\n",
       "    }\n",
       "</style>\n",
       "<table border=\"1\" class=\"dataframe\">\n",
       "  <thead>\n",
       "    <tr style=\"text-align: right;\">\n",
       "      <th></th>\n",
       "      <th>bedrooms</th>\n",
       "      <th>bathrooms</th>\n",
       "      <th>square_feet</th>\n",
       "      <th>lot_size</th>\n",
       "      <th>pool</th>\n",
       "      <th>zip_code</th>\n",
       "      <th>year_built</th>\n",
       "      <th>latitude</th>\n",
       "      <th>longitude</th>\n",
       "      <th>fips</th>\n",
       "      <th>tax_value</th>\n",
       "      <th>tax_amount</th>\n",
       "      <th>transaction_date</th>\n",
       "      <th>log_error</th>\n",
       "      <th>transaction_month</th>\n",
       "      <th>county</th>\n",
       "      <th>tax_rate</th>\n",
       "    </tr>\n",
       "  </thead>\n",
       "  <tbody>\n",
       "    <tr>\n",
       "      <th>5</th>\n",
       "      <td>3</td>\n",
       "      <td>2.0</td>\n",
       "      <td>1222</td>\n",
       "      <td>5500</td>\n",
       "      <td>1</td>\n",
       "      <td>96193</td>\n",
       "      <td>1951</td>\n",
       "      <td>33889894.0</td>\n",
       "      <td>-118100732.0</td>\n",
       "      <td>6037</td>\n",
       "      <td>290492</td>\n",
       "      <td>3870</td>\n",
       "      <td>2017-01-03</td>\n",
       "      <td>-0.316484</td>\n",
       "      <td>1</td>\n",
       "      <td>Los Angeles</td>\n",
       "      <td>1.332223</td>\n",
       "    </tr>\n",
       "    <tr>\n",
       "      <th>38</th>\n",
       "      <td>4</td>\n",
       "      <td>2.5</td>\n",
       "      <td>1620</td>\n",
       "      <td>8531</td>\n",
       "      <td>1</td>\n",
       "      <td>97099</td>\n",
       "      <td>1967</td>\n",
       "      <td>34440918.0</td>\n",
       "      <td>-119293909.0</td>\n",
       "      <td>6111</td>\n",
       "      <td>369463</td>\n",
       "      <td>4585</td>\n",
       "      <td>2017-01-03</td>\n",
       "      <td>0.102849</td>\n",
       "      <td>1</td>\n",
       "      <td>Ventura</td>\n",
       "      <td>1.240990</td>\n",
       "    </tr>\n",
       "    <tr>\n",
       "      <th>40</th>\n",
       "      <td>4</td>\n",
       "      <td>4.0</td>\n",
       "      <td>2840</td>\n",
       "      <td>60548</td>\n",
       "      <td>1</td>\n",
       "      <td>97099</td>\n",
       "      <td>1966</td>\n",
       "      <td>34452715.0</td>\n",
       "      <td>-119266845.0</td>\n",
       "      <td>6111</td>\n",
       "      <td>610795</td>\n",
       "      <td>6970</td>\n",
       "      <td>2017-01-03</td>\n",
       "      <td>-0.069136</td>\n",
       "      <td>1</td>\n",
       "      <td>Ventura</td>\n",
       "      <td>1.141136</td>\n",
       "    </tr>\n",
       "    <tr>\n",
       "      <th>54</th>\n",
       "      <td>3</td>\n",
       "      <td>2.0</td>\n",
       "      <td>1638</td>\n",
       "      <td>197651</td>\n",
       "      <td>1</td>\n",
       "      <td>97099</td>\n",
       "      <td>1989</td>\n",
       "      <td>34454777.0</td>\n",
       "      <td>-119197226.0</td>\n",
       "      <td>6111</td>\n",
       "      <td>653582</td>\n",
       "      <td>6997</td>\n",
       "      <td>2017-01-03</td>\n",
       "      <td>-0.010887</td>\n",
       "      <td>1</td>\n",
       "      <td>Ventura</td>\n",
       "      <td>1.070562</td>\n",
       "    </tr>\n",
       "    <tr>\n",
       "      <th>58</th>\n",
       "      <td>3</td>\n",
       "      <td>2.0</td>\n",
       "      <td>1583</td>\n",
       "      <td>8000</td>\n",
       "      <td>1</td>\n",
       "      <td>97099</td>\n",
       "      <td>1961</td>\n",
       "      <td>34419017.0</td>\n",
       "      <td>-119296402.0</td>\n",
       "      <td>6111</td>\n",
       "      <td>465462</td>\n",
       "      <td>5644</td>\n",
       "      <td>2017-01-03</td>\n",
       "      <td>0.052558</td>\n",
       "      <td>1</td>\n",
       "      <td>Ventura</td>\n",
       "      <td>1.212559</td>\n",
       "    </tr>\n",
       "  </tbody>\n",
       "</table>\n",
       "</div>"
      ],
      "text/plain": [
       "    bedrooms  bathrooms  square_feet  lot_size  pool  zip_code  year_built  \\\n",
       "5          3        2.0         1222      5500     1     96193        1951   \n",
       "38         4        2.5         1620      8531     1     97099        1967   \n",
       "40         4        4.0         2840     60548     1     97099        1966   \n",
       "54         3        2.0         1638    197651     1     97099        1989   \n",
       "58         3        2.0         1583      8000     1     97099        1961   \n",
       "\n",
       "      latitude    longitude  fips  tax_value  tax_amount transaction_date  \\\n",
       "5   33889894.0 -118100732.0  6037     290492        3870       2017-01-03   \n",
       "38  34440918.0 -119293909.0  6111     369463        4585       2017-01-03   \n",
       "40  34452715.0 -119266845.0  6111     610795        6970       2017-01-03   \n",
       "54  34454777.0 -119197226.0  6111     653582        6997       2017-01-03   \n",
       "58  34419017.0 -119296402.0  6111     465462        5644       2017-01-03   \n",
       "\n",
       "    log_error  transaction_month       county  tax_rate  \n",
       "5   -0.316484                  1  Los Angeles  1.332223  \n",
       "38   0.102849                  1      Ventura  1.240990  \n",
       "40  -0.069136                  1      Ventura  1.141136  \n",
       "54  -0.010887                  1      Ventura  1.070562  \n",
       "58   0.052558                  1      Ventura  1.212559  "
      ]
     },
     "execution_count": 3,
     "metadata": {},
     "output_type": "execute_result"
    }
   ],
   "source": [
    "# prepares data from prepare.py file\n",
    "df = prepare.prep_zillow(df)\n",
    "df.head()"
   ]
  },
  {
   "cell_type": "markdown",
   "id": "cc44d60a",
   "metadata": {},
   "source": [
    "### Note: DF only contains bathrooms/bathrooms with <= 6, square_feet <= 3000, and tax_value <= 1000000 because this accounted for ~94% of the data I wanted to target."
   ]
  },
  {
   "cell_type": "code",
   "execution_count": 4,
   "id": "b9590b04",
   "metadata": {},
   "outputs": [
    {
     "name": "stdout",
     "output_type": "stream",
     "text": [
      "(5652, 17) (1413, 17) (785, 17)\n"
     ]
    }
   ],
   "source": [
    "# splits my data\n",
    "train_validate, test = train_test_split(df, test_size = 0.10, random_state = 123)\n",
    "train, validate = train_test_split(train_validate, test_size = 0.20, random_state = 123)\n",
    "print(train.shape, validate.shape, test.shape)"
   ]
  },
  {
   "cell_type": "markdown",
   "id": "7f51b230",
   "metadata": {},
   "source": [
    "# Data Exploration"
   ]
  },
  {
   "cell_type": "markdown",
   "id": "8ffcdf7b",
   "metadata": {},
   "source": [
    "## Initial questions, thoughts, and comments:\n",
    "\n",
    "- Why do some properties have a much higher value than others when they are located so close to each other? \n",
    "    - perhaps determining the month in which people are more likely to purchase the tax rates increase.\n",
    "    \n",
    "\n",
    "- Why are some properties valued so differently from others when they have nearly the same physical attributes but only differ in location? \n",
    "    - since the location of homes is in three CA Counties, perhaps being closer to the ocean drives total tax assessed value.\n",
    "    \n",
    "\n",
    "- Is having different combinations of bedrooms and baths a key driver? What about the size of the property?\n",
    "\n",
    "    - I think size or features of a home definitely plays a role in tax value which includes:\n",
    "        - bedrooms\n",
    "        - bathrooms\n",
    "        - square_feet\n",
    "        - lot_size\n"
   ]
  },
  {
   "cell_type": "markdown",
   "id": "08e1dfb0",
   "metadata": {},
   "source": [
    "### Hypothesis on Month of transaction\n",
    "    - Is the mean of transactions for entire population of homes equal to the mean of transactions by month?"
   ]
  },
  {
   "cell_type": "markdown",
   "id": "e4311e81",
   "metadata": {},
   "source": [
    "- $H_0$  Mean of transactions in entire population = Mean of transactions in May\n",
    "- $H_a$  Mean of transactions in entire population != Mean of transactions in May"
   ]
  },
  {
   "cell_type": "markdown",
   "id": "54cf1363",
   "metadata": {},
   "source": [
    "### Visualizations of transactions by month and density of total tax assessed values"
   ]
  },
  {
   "cell_type": "code",
   "execution_count": 5,
   "id": "44f61f17",
   "metadata": {
    "scrolled": true
   },
   "outputs": [
    {
     "data": {
      "image/png": "[encoded data removed]",
      "text/plain": [
       "<Figure size 504x360 with 1 Axes>"
      ]
     },
     "metadata": {
      "needs_background": "light"
     },
     "output_type": "display_data"
    }
   ],
   "source": [
    "#Temporal data distribution of transaction_month, function created in prepare.py\n",
    "plt.figure(figsize=(7,5))\n",
    "sns.countplot(x=train.transaction_month).set_title(\"Transaction distribution based on month\");"
   ]
  },
  {
   "cell_type": "code",
   "execution_count": 6,
   "id": "072bb358",
   "metadata": {},
   "outputs": [
    {
     "data": {
      "text/plain": [
       "Text(0.5, 1.0, 'Total tax assessed value by Month')"
      ]
     },
     "execution_count": 6,
     "metadata": {},
     "output_type": "execute_result"
    },
    {
     "data": {
      "image/png": "[encoded data removed]",
      "text/plain": [
       "<Figure size 432x288 with 1 Axes>"
      ]
     },
     "metadata": {
      "needs_background": "light"
     },
     "output_type": "display_data"
    }
   ],
   "source": [
    "Mth = sns.kdeplot(train.transaction_month[(train[\"tax_value\"] < 1000000) ],\n",
    "                color=\"#0072BD\", shade = True)\n",
    "Mth.set_ylabel('Density')\n",
    "Mth.set_xlabel('Month of Transaction')\n",
    "Mth.set_title('Total tax assessed value by Month')"
   ]
  },
  {
   "cell_type": "markdown",
   "id": "b91ed0f3",
   "metadata": {},
   "source": [
    "### Testing on Month of transaction"
   ]
  },
  {
   "cell_type": "code",
   "execution_count": 7,
   "id": "37a29bda",
   "metadata": {},
   "outputs": [
    {
     "name": "stdout",
     "output_type": "stream",
     "text": [
      "0.0003608407646743951 0.4998560499512411 0.05\n"
     ]
    }
   ],
   "source": [
    "# sets alpha and performs One-Sample T-Test\n",
    "alpha = .05\n",
    "transaction_sample = df[df.tax_value < 1000000].transaction_month\n",
    "overall_mean = df.transaction_month.mean()\n",
    "\n",
    "t, p = stats.ttest_1samp(transaction_sample, overall_mean)\n",
    "\n",
    "print(t, p/2, alpha)"
   ]
  },
  {
   "cell_type": "code",
   "execution_count": 8,
   "id": "7176548b",
   "metadata": {},
   "outputs": [
    {
     "data": {
      "text/plain": [
       "(0.0003608407646743951, 0.9997120999024822)"
      ]
     },
     "execution_count": 8,
     "metadata": {},
     "output_type": "execute_result"
    }
   ],
   "source": [
    "# code for t-test\n",
    "t, p = stats.ttest_1samp(transaction_sample, overall_mean)\n",
    "t, p"
   ]
  },
  {
   "cell_type": "code",
   "execution_count": 9,
   "id": "5a8e4224",
   "metadata": {},
   "outputs": [
    {
     "name": "stdout",
     "output_type": "stream",
     "text": [
      "False\n",
      "False\n"
     ]
    }
   ],
   "source": [
    "# Is 1/2 of p-value < alpha AND t-stat < 0?\n",
    "print(t < 0)\n",
    "print(p/2 < alpha)"
   ]
  },
  {
   "cell_type": "code",
   "execution_count": 10,
   "id": "774967c3",
   "metadata": {},
   "outputs": [
    {
     "name": "stdout",
     "output_type": "stream",
     "text": [
      "We fail to reject null hypothesis\n"
     ]
    }
   ],
   "source": [
    "# prints hypothesis null or alternate\n",
    "if p/2 > alpha:\n",
    "    print(\"We fail to reject null hypothesis\")\n",
    "elif t < 0:\n",
    "    print(\"We fail to reject null hypothesis\")\n",
    "else:\n",
    "    print(\"We reject null hypothesis\")"
   ]
  },
  {
   "cell_type": "markdown",
   "id": "a1827e03",
   "metadata": {},
   "source": [
    "- p-value: 1.0"
   ]
  },
  {
   "cell_type": "markdown",
   "id": "66c2d82f",
   "metadata": {},
   "source": [
    "### Hypothesis on location\n",
    "    - Is the tax value higher by county?"
   ]
  },
  {
   "cell_type": "markdown",
   "id": "07307561",
   "metadata": {},
   "source": [
    "- $H_0$ : There is no association between location and tax value.\n",
    "- $H_a$ : There is an association between location and tax value."
   ]
  },
  {
   "cell_type": "markdown",
   "id": "c126bfbc",
   "metadata": {},
   "source": [
    "### Visualizations on location and hypothesis testing"
   ]
  },
  {
   "cell_type": "code",
   "execution_count": 11,
   "id": "3dc4d2c8",
   "metadata": {},
   "outputs": [
    {
     "data": {
      "text/plain": [
       "<AxesSubplot:xlabel='latitude', ylabel='longitude'>"
      ]
     },
     "execution_count": 11,
     "metadata": {},
     "output_type": "execute_result"
    },
    {
     "data": {
      "image/png": "[encoded data removed]",
      "text/plain": [
       "<Figure size 432x288 with 1 Axes>"
      ]
     },
     "metadata": {
      "needs_background": "light"
     },
     "output_type": "display_data"
    }
   ],
   "source": [
    "# Plots lats/longs by tax amount\n",
    "sns.scatterplot(x=train.latitude , y=train.longitude, hue=train.tax_amount)"
   ]
  },
  {
   "cell_type": "markdown",
   "id": "52feecd9",
   "metadata": {},
   "source": [
    "### dificult to determine relation using scatterplot. Appears evenly distributed."
   ]
  },
  {
   "cell_type": "code",
   "execution_count": 12,
   "id": "b354c87f",
   "metadata": {},
   "outputs": [
    {
     "data": {
      "text/plain": [
       "<AxesSubplot:xlabel='county', ylabel='tax_value'>"
      ]
     },
     "execution_count": 12,
     "metadata": {},
     "output_type": "execute_result"
    },
    {
     "data": {
      "image/png": "[encoded data removed]",
      "text/plain": [
       "<Figure size 864x432 with 1 Axes>"
      ]
     },
     "metadata": {
      "needs_background": "light"
     },
     "output_type": "display_data"
    }
   ],
   "source": [
    "# boxplot showing tax value by county\n",
    "plt.figure(figsize=(12,6))\n",
    "sns.boxplot(x= train[train.tax_value<1000000].county, \n",
    "            y= train[train.tax_value<100000].tax_value, data=train[train.tax_value<100000])"
   ]
  },
  {
   "cell_type": "markdown",
   "id": "d5ce8e7f",
   "metadata": {},
   "source": [
    "#### Note: Highest total tax assessed value is in Orange County"
   ]
  },
  {
   "cell_type": "markdown",
   "id": "2a0661c5",
   "metadata": {},
   "source": [
    "### Testing on Location"
   ]
  },
  {
   "cell_type": "code",
   "execution_count": 13,
   "id": "7686d18f",
   "metadata": {},
   "outputs": [
    {
     "name": "stdout",
     "output_type": "stream",
     "text": [
      "Observed\n",
      "\n",
      "county     Los Angeles  Orange  Ventura\n",
      "tax_value                              \n",
      "36494                1       0        0\n",
      "40964                1       0        0\n",
      "44627                1       0        0\n",
      "45271                1       0        0\n",
      "45647                0       1        0\n",
      "...                ...     ...      ...\n",
      "994996               1       0        0\n",
      "995503               1       0        0\n",
      "998838               1       0        0\n",
      "999290               1       0        0\n",
      "1000000              1       0        0\n",
      "\n",
      "[5363 rows x 3 columns]\n",
      "---\n",
      "Expected\n",
      "\n",
      "[[0 0 0]\n",
      " [0 0 0]\n",
      " [0 0 0]\n",
      " ...\n",
      " [0 0 0]\n",
      " [0 0 0]\n",
      " [0 0 0]]\n",
      "---\n",
      "\n",
      "chi^2 = 10842.7254\n",
      "p     = 0.2083\n",
      "We fail to reject the null hypothesis.\n"
     ]
    }
   ],
   "source": [
    "# code to run chi square test\n",
    "\n",
    "observed = pd.crosstab(train.tax_value, train.county)\n",
    "chi2, p, degf, expected = stats.chi2_contingency(observed)\n",
    "print('Observed\\n')\n",
    "print(observed)\n",
    "print('---\\nExpected\\n')\n",
    "print(expected.astype(int))\n",
    "print('---\\n')\n",
    "print(f'chi^2 = {chi2:.4f}')\n",
    "print(f'p     = {p:.4f}')\n",
    "if p < alpha:\n",
    "    print(\"We reject the null hypothesis.\")\n",
    "else:\n",
    "    print(\"We fail to reject the null hypothesis.\")"
   ]
  },
  {
   "cell_type": "markdown",
   "id": "a7a61b94",
   "metadata": {},
   "source": [
    "### Hypothesis relationship between bedrooms, bathrooms, square_feet, and lot_size\n",
    "    - Is there a relationship between tax values and the above features?"
   ]
  },
  {
   "cell_type": "markdown",
   "id": "257d2e7a",
   "metadata": {},
   "source": [
    "- $H_0$: There is no relationship between tax values and number of bedrooms, bathrooms and square_feet.\n",
    "- $H_a$: There is a relationship between tax values and number of bedrooms, bathrooms and square_feet"
   ]
  },
  {
   "cell_type": "markdown",
   "id": "e4ef6dbf",
   "metadata": {},
   "source": [
    "#### Note: I will create a subset df with these specific features to determine correlation to tax value"
   ]
  },
  {
   "cell_type": "code",
   "execution_count": 14,
   "id": "caa24348",
   "metadata": {},
   "outputs": [],
   "source": [
    "#creates a subset df with specific and continuous variables to create heatmap\n",
    "train_corr = train[['bathrooms', 'bedrooms', 'square_feet', 'lot_size', 'tax_value']]"
   ]
  },
  {
   "cell_type": "code",
   "execution_count": 15,
   "id": "83a82afd",
   "metadata": {},
   "outputs": [
    {
     "data": {
      "text/html": [
       "<div>\n",
       "<style scoped>\n",
       "    .dataframe tbody tr th:only-of-type {\n",
       "        vertical-align: middle;\n",
       "    }\n",
       "\n",
       "    .dataframe tbody tr th {\n",
       "        vertical-align: top;\n",
       "    }\n",
       "\n",
       "    .dataframe thead th {\n",
       "        text-align: right;\n",
       "    }\n",
       "</style>\n",
       "<table border=\"1\" class=\"dataframe\">\n",
       "  <thead>\n",
       "    <tr style=\"text-align: right;\">\n",
       "      <th></th>\n",
       "      <th>bathrooms</th>\n",
       "      <th>bedrooms</th>\n",
       "      <th>square_feet</th>\n",
       "      <th>lot_size</th>\n",
       "      <th>tax_value</th>\n",
       "    </tr>\n",
       "  </thead>\n",
       "  <tbody>\n",
       "    <tr>\n",
       "      <th>bathrooms</th>\n",
       "      <td>1.000000</td>\n",
       "      <td>0.474357</td>\n",
       "      <td>0.707201</td>\n",
       "      <td>0.082465</td>\n",
       "      <td>0.270707</td>\n",
       "    </tr>\n",
       "    <tr>\n",
       "      <th>bedrooms</th>\n",
       "      <td>0.474357</td>\n",
       "      <td>1.000000</td>\n",
       "      <td>0.508887</td>\n",
       "      <td>-0.018564</td>\n",
       "      <td>0.108301</td>\n",
       "    </tr>\n",
       "    <tr>\n",
       "      <th>square_feet</th>\n",
       "      <td>0.707201</td>\n",
       "      <td>0.508887</td>\n",
       "      <td>1.000000</td>\n",
       "      <td>0.128391</td>\n",
       "      <td>0.374145</td>\n",
       "    </tr>\n",
       "    <tr>\n",
       "      <th>lot_size</th>\n",
       "      <td>0.082465</td>\n",
       "      <td>-0.018564</td>\n",
       "      <td>0.128391</td>\n",
       "      <td>1.000000</td>\n",
       "      <td>0.051627</td>\n",
       "    </tr>\n",
       "    <tr>\n",
       "      <th>tax_value</th>\n",
       "      <td>0.270707</td>\n",
       "      <td>0.108301</td>\n",
       "      <td>0.374145</td>\n",
       "      <td>0.051627</td>\n",
       "      <td>1.000000</td>\n",
       "    </tr>\n",
       "  </tbody>\n",
       "</table>\n",
       "</div>"
      ],
      "text/plain": [
       "             bathrooms  bedrooms  square_feet  lot_size  tax_value\n",
       "bathrooms     1.000000  0.474357     0.707201  0.082465   0.270707\n",
       "bedrooms      0.474357  1.000000     0.508887 -0.018564   0.108301\n",
       "square_feet   0.707201  0.508887     1.000000  0.128391   0.374145\n",
       "lot_size      0.082465 -0.018564     0.128391  1.000000   0.051627\n",
       "tax_value     0.270707  0.108301     0.374145  0.051627   1.000000"
      ]
     },
     "execution_count": 15,
     "metadata": {},
     "output_type": "execute_result"
    }
   ],
   "source": [
    "# using corr() function to find correlation between columns\n",
    "train_corr = train_corr.corr()\n",
    "train_corr"
   ]
  },
  {
   "cell_type": "markdown",
   "id": "6eed6585",
   "metadata": {},
   "source": [
    "### Visualizations on selected features (bathrooms, bedrooms, square_feet, lot_size) in relation to tax value"
   ]
  },
  {
   "cell_type": "code",
   "execution_count": 16,
   "id": "0f300e93",
   "metadata": {},
   "outputs": [
    {
     "data": {
      "text/plain": [
       "<AxesSubplot:>"
      ]
     },
     "execution_count": 16,
     "metadata": {},
     "output_type": "execute_result"
    },
    {
     "data": {
      "image/png": "[encoded data removed]",
      "text/plain": [
       "<Figure size 576x432 with 2 Axes>"
      ]
     },
     "metadata": {
      "needs_background": "light"
     },
     "output_type": "display_data"
    }
   ],
   "source": [
    "# plots heatmap and correlation values \n",
    "plt.figure(figsize=(8,6))\n",
    "sns.heatmap(train_corr, annot=True, cmap='inferno')"
   ]
  },
  {
   "cell_type": "markdown",
   "id": "4217619e",
   "metadata": {},
   "source": [
    "### Note: Highest correlation in order is square_feet (0.37), bathrooms (0.27), bedrooms (0.11), and lastly lot_size (0.052).\n",
    "    - strange to find out that bathrooms is higher than bedrooms.\n",
    "    - also strange that lot_size is the least correlated. (perhaps with extra time can do some feature engineering to find out what impacts that)"
   ]
  },
  {
   "cell_type": "code",
   "execution_count": 17,
   "id": "615a2b25",
   "metadata": {},
   "outputs": [
    {
     "data": {
      "text/plain": [
       "Text(0.5, 1.0, 'Total tax assessed value by Bedrooms')"
      ]
     },
     "execution_count": 17,
     "metadata": {},
     "output_type": "execute_result"
    },
    {
     "data": {
      "image/png": "[encoded data removed]",
      "text/plain": [
       "<Figure size 432x288 with 1 Axes>"
      ]
     },
     "metadata": {
      "needs_background": "light"
     },
     "output_type": "display_data"
    }
   ],
   "source": [
    "Mth = sns.kdeplot(train.bedrooms[(train[\"tax_value\"] < 1000000) ],\n",
    "                color=\"#0072BD\", shade = True)\n",
    "Mth.set_ylabel('Density')\n",
    "Mth.set_xlabel('# of Bedrooms')\n",
    "Mth.set_title('Total tax assessed value by Bedrooms')"
   ]
  },
  {
   "cell_type": "markdown",
   "id": "bbfb8fc6",
   "metadata": {},
   "source": [
    "#### Note: 3 and 4 bedrooms have highest tax value."
   ]
  },
  {
   "cell_type": "code",
   "execution_count": 18,
   "id": "f642ece8",
   "metadata": {},
   "outputs": [
    {
     "data": {
      "text/plain": [
       "Text(0.5, 1.0, 'Total tax assessed value by Bathrooms')"
      ]
     },
     "execution_count": 18,
     "metadata": {},
     "output_type": "execute_result"
    },
    {
     "data": {
      "image/png": "[encoded data removed]",
      "text/plain": [
       "<Figure size 432x288 with 1 Axes>"
      ]
     },
     "metadata": {
      "needs_background": "light"
     },
     "output_type": "display_data"
    }
   ],
   "source": [
    "Mth = sns.kdeplot(train.bathrooms[(train[\"tax_value\"] < 1000000) ],\n",
    "                color=\"#0072BD\", shade = True)\n",
    "Mth.set_ylabel('Density')\n",
    "Mth.set_xlabel('# of Bathrooms')\n",
    "Mth.set_title('Total tax assessed value by Bathrooms')"
   ]
  },
  {
   "cell_type": "markdown",
   "id": "50ac0d7c",
   "metadata": {},
   "source": [
    "#### Note: 2 - 3 bathrooms have highest tax value. Perhaps this is because that is how many baths a 3 or 4 bedroom has."
   ]
  },
  {
   "cell_type": "code",
   "execution_count": 19,
   "id": "727728b5",
   "metadata": {},
   "outputs": [
    {
     "data": {
      "text/plain": [
       "Text(0.5, 1.0, 'Total tax assessed value by Square Footage')"
      ]
     },
     "execution_count": 19,
     "metadata": {},
     "output_type": "execute_result"
    },
    {
     "data": {
      "image/png": "[encoded data removed]",
      "text/plain": [
       "<Figure size 432x288 with 1 Axes>"
      ]
     },
     "metadata": {
      "needs_background": "light"
     },
     "output_type": "display_data"
    }
   ],
   "source": [
    "Mth = sns.kdeplot(train.square_feet[(train[\"tax_value\"] < 1000000) ],\n",
    "                color=\"#0072BD\", shade = True)\n",
    "Mth.set_ylabel('Density')\n",
    "Mth.set_xlabel('Square footage')\n",
    "Mth.set_title('Total tax assessed value by Square Footage')"
   ]
  },
  {
   "cell_type": "markdown",
   "id": "8e3b171d",
   "metadata": {},
   "source": [
    "#### Note: Between 1500 - 2000 square_feet have highest tax value."
   ]
  },
  {
   "cell_type": "markdown",
   "id": "23569d95",
   "metadata": {},
   "source": [
    "## Modeling"
   ]
  },
  {
   "cell_type": "markdown",
   "id": "ced22bee",
   "metadata": {},
   "source": [
    "#### Prepares data for Modeling"
   ]
  },
  {
   "cell_type": "code",
   "execution_count": 20,
   "id": "f4724d34",
   "metadata": {},
   "outputs": [
    {
     "data": {
      "text/html": [
       "<div>\n",
       "<style scoped>\n",
       "    .dataframe tbody tr th:only-of-type {\n",
       "        vertical-align: middle;\n",
       "    }\n",
       "\n",
       "    .dataframe tbody tr th {\n",
       "        vertical-align: top;\n",
       "    }\n",
       "\n",
       "    .dataframe thead th {\n",
       "        text-align: right;\n",
       "    }\n",
       "</style>\n",
       "<table border=\"1\" class=\"dataframe\">\n",
       "  <thead>\n",
       "    <tr style=\"text-align: right;\">\n",
       "      <th></th>\n",
       "      <th>tax_value</th>\n",
       "      <th>y_baseline</th>\n",
       "    </tr>\n",
       "  </thead>\n",
       "  <tbody>\n",
       "    <tr>\n",
       "      <th>4192</th>\n",
       "      <td>875694</td>\n",
       "      <td>380351.5</td>\n",
       "    </tr>\n",
       "    <tr>\n",
       "      <th>20164</th>\n",
       "      <td>390727</td>\n",
       "      <td>380351.5</td>\n",
       "    </tr>\n",
       "    <tr>\n",
       "      <th>53874</th>\n",
       "      <td>508519</td>\n",
       "      <td>380351.5</td>\n",
       "    </tr>\n",
       "  </tbody>\n",
       "</table>\n",
       "</div>"
      ],
      "text/plain": [
       "       tax_value  y_baseline\n",
       "4192      875694    380351.5\n",
       "20164     390727    380351.5\n",
       "53874     508519    380351.5"
      ]
     },
     "execution_count": 20,
     "metadata": {},
     "output_type": "execute_result"
    }
   ],
   "source": [
    "# Creates simple model based on bathrooms, bedrooms and square_feet. Compares against baseline(median tax value)\n",
    "X_train = train[['bedrooms', 'bathrooms', 'square_feet']]\n",
    "y_train = train[['tax_value']]\n",
    "y_train['y_baseline'] = train['tax_value'].median()\n",
    "\n",
    "# predictor/independent features split into train, test, validate\n",
    "X_train = train.drop(columns = ['tax_value'],axis=1)\n",
    "X_validate = validate.drop(columns = ['tax_value'],axis=1)\n",
    "X_test = test.drop(columns = ['tax_value'],axis=1)\n",
    "\n",
    "# target variables split into train, test, validate\n",
    "# y_train = train.tax_value\n",
    "y_validate = validate.tax_value\n",
    "y_test = test.tax_value\n",
    "y_train.head(3)"
   ]
  },
  {
   "cell_type": "code",
   "execution_count": 21,
   "id": "6c71338f",
   "metadata": {},
   "outputs": [
    {
     "data": {
      "text/plain": [
       "219730.81030193748"
      ]
     },
     "execution_count": 21,
     "metadata": {},
     "output_type": "execute_result"
    }
   ],
   "source": [
    "# Calculates baseline (based on median) RMSE\n",
    "rmse_baseline = sqrt(mean_squared_error(y_train.tax_value, y_train.y_baseline))\n",
    "rmse_baseline"
   ]
  },
  {
   "cell_type": "code",
   "execution_count": 22,
   "id": "33e62337",
   "metadata": {},
   "outputs": [
    {
     "data": {
      "text/html": [
       "<div>\n",
       "<style scoped>\n",
       "    .dataframe tbody tr th:only-of-type {\n",
       "        vertical-align: middle;\n",
       "    }\n",
       "\n",
       "    .dataframe tbody tr th {\n",
       "        vertical-align: top;\n",
       "    }\n",
       "\n",
       "    .dataframe thead th {\n",
       "        text-align: right;\n",
       "    }\n",
       "</style>\n",
       "<table border=\"1\" class=\"dataframe\">\n",
       "  <thead>\n",
       "    <tr style=\"text-align: right;\">\n",
       "      <th></th>\n",
       "      <th>tax_value</th>\n",
       "      <th>y_baseline</th>\n",
       "      <th>yhat</th>\n",
       "    </tr>\n",
       "  </thead>\n",
       "  <tbody>\n",
       "    <tr>\n",
       "      <th>4192</th>\n",
       "      <td>875694</td>\n",
       "      <td>380351.5</td>\n",
       "      <td>462715.794623</td>\n",
       "    </tr>\n",
       "    <tr>\n",
       "      <th>20164</th>\n",
       "      <td>390727</td>\n",
       "      <td>380351.5</td>\n",
       "      <td>514631.783768</td>\n",
       "    </tr>\n",
       "    <tr>\n",
       "      <th>53874</th>\n",
       "      <td>508519</td>\n",
       "      <td>380351.5</td>\n",
       "      <td>554272.688304</td>\n",
       "    </tr>\n",
       "  </tbody>\n",
       "</table>\n",
       "</div>"
      ],
      "text/plain": [
       "       tax_value  y_baseline           yhat\n",
       "4192      875694    380351.5  462715.794623\n",
       "20164     390727    380351.5  514631.783768\n",
       "53874     508519    380351.5  554272.688304"
      ]
     },
     "execution_count": 22,
     "metadata": {},
     "output_type": "execute_result"
    }
   ],
   "source": [
    "# Creates OLS model based on bathrooms, bedrooms, and square_feet\n",
    "# generates parameters (creates model)\n",
    "ols_model = ols('tax_value ~ bedrooms + bathrooms + square_feet', data = train).fit()\n",
    "\n",
    "# computes predictions and add to original dataframe\n",
    "y_train['yhat'] = ols_model.predict(X_train)\n",
    "y_train.head(3)"
   ]
  },
  {
   "cell_type": "code",
   "execution_count": 23,
   "id": "bc3d0b2c",
   "metadata": {},
   "outputs": [
    {
     "data": {
      "text/html": [
       "<table class=\"simpletable\">\n",
       "<caption>OLS Regression Results</caption>\n",
       "<tr>\n",
       "  <th>Dep. Variable:</th>        <td>tax_value</td>    <th>  R-squared:         </th> <td>   0.150</td> \n",
       "</tr>\n",
       "<tr>\n",
       "  <th>Model:</th>                   <td>OLS</td>       <th>  Adj. R-squared:    </th> <td>   0.149</td> \n",
       "</tr>\n",
       "<tr>\n",
       "  <th>Method:</th>             <td>Least Squares</td>  <th>  F-statistic:       </th> <td>   331.7</td> \n",
       "</tr>\n",
       "<tr>\n",
       "  <th>Date:</th>             <td>Thu, 09 Jun 2022</td> <th>  Prob (F-statistic):</th> <td>2.07e-198</td>\n",
       "</tr>\n",
       "<tr>\n",
       "  <th>Time:</th>                 <td>00:40:58</td>     <th>  Log-Likelihood:    </th> <td> -77041.</td> \n",
       "</tr>\n",
       "<tr>\n",
       "  <th>No. Observations:</th>      <td>  5652</td>      <th>  AIC:               </th> <td>1.541e+05</td>\n",
       "</tr>\n",
       "<tr>\n",
       "  <th>Df Residuals:</th>          <td>  5648</td>      <th>  BIC:               </th> <td>1.541e+05</td>\n",
       "</tr>\n",
       "<tr>\n",
       "  <th>Df Model:</th>              <td>     3</td>      <th>                     </th>     <td> </td>    \n",
       "</tr>\n",
       "<tr>\n",
       "  <th>Covariance Type:</th>      <td>nonrobust</td>    <th>                     </th>     <td> </td>    \n",
       "</tr>\n",
       "</table>\n",
       "<table class=\"simpletable\">\n",
       "<tr>\n",
       "       <td></td>          <th>coef</th>     <th>std err</th>      <th>t</th>      <th>P>|t|</th>  <th>[0.025</th>    <th>0.975]</th>  \n",
       "</tr>\n",
       "<tr>\n",
       "  <th>Intercept</th>   <td> 1.594e+05</td> <td> 1.34e+04</td> <td>   11.864</td> <td> 0.000</td> <td> 1.33e+05</td> <td> 1.86e+05</td>\n",
       "</tr>\n",
       "<tr>\n",
       "  <th>bedrooms</th>    <td>-3.315e+04</td> <td> 4118.372</td> <td>   -8.049</td> <td> 0.000</td> <td>-4.12e+04</td> <td>-2.51e+04</td>\n",
       "</tr>\n",
       "<tr>\n",
       "  <th>bathrooms</th>   <td> 1.343e+04</td> <td> 6087.582</td> <td>    2.206</td> <td> 0.027</td> <td> 1494.749</td> <td> 2.54e+04</td>\n",
       "</tr>\n",
       "<tr>\n",
       "  <th>square_feet</th> <td>  172.3902</td> <td>    7.672</td> <td>   22.471</td> <td> 0.000</td> <td>  157.351</td> <td>  187.430</td>\n",
       "</tr>\n",
       "</table>\n",
       "<table class=\"simpletable\">\n",
       "<tr>\n",
       "  <th>Omnibus:</th>       <td>123.298</td> <th>  Durbin-Watson:     </th> <td>   1.945</td>\n",
       "</tr>\n",
       "<tr>\n",
       "  <th>Prob(Omnibus):</th> <td> 0.000</td>  <th>  Jarque-Bera (JB):  </th> <td> 108.485</td>\n",
       "</tr>\n",
       "<tr>\n",
       "  <th>Skew:</th>          <td> 0.283</td>  <th>  Prob(JB):          </th> <td>2.77e-24</td>\n",
       "</tr>\n",
       "<tr>\n",
       "  <th>Kurtosis:</th>      <td> 2.624</td>  <th>  Cond. No.          </th> <td>1.02e+04</td>\n",
       "</tr>\n",
       "</table><br/><br/>Notes:<br/>[1] Standard Errors assume that the covariance matrix of the errors is correctly specified.<br/>[2] The condition number is large, 1.02e+04. This might indicate that there are<br/>strong multicollinearity or other numerical problems."
      ],
      "text/plain": [
       "<class 'statsmodels.iolib.summary.Summary'>\n",
       "\"\"\"\n",
       "                            OLS Regression Results                            \n",
       "==============================================================================\n",
       "Dep. Variable:              tax_value   R-squared:                       0.150\n",
       "Model:                            OLS   Adj. R-squared:                  0.149\n",
       "Method:                 Least Squares   F-statistic:                     331.7\n",
       "Date:                Thu, 09 Jun 2022   Prob (F-statistic):          2.07e-198\n",
       "Time:                        00:40:58   Log-Likelihood:                -77041.\n",
       "No. Observations:                5652   AIC:                         1.541e+05\n",
       "Df Residuals:                    5648   BIC:                         1.541e+05\n",
       "Df Model:                           3                                         \n",
       "Covariance Type:            nonrobust                                         \n",
       "===============================================================================\n",
       "                  coef    std err          t      P>|t|      [0.025      0.975]\n",
       "-------------------------------------------------------------------------------\n",
       "Intercept    1.594e+05   1.34e+04     11.864      0.000    1.33e+05    1.86e+05\n",
       "bedrooms    -3.315e+04   4118.372     -8.049      0.000   -4.12e+04   -2.51e+04\n",
       "bathrooms    1.343e+04   6087.582      2.206      0.027    1494.749    2.54e+04\n",
       "square_feet   172.3902      7.672     22.471      0.000     157.351     187.430\n",
       "==============================================================================\n",
       "Omnibus:                      123.298   Durbin-Watson:                   1.945\n",
       "Prob(Omnibus):                  0.000   Jarque-Bera (JB):              108.485\n",
       "Skew:                           0.283   Prob(JB):                     2.77e-24\n",
       "Kurtosis:                       2.624   Cond. No.                     1.02e+04\n",
       "==============================================================================\n",
       "\n",
       "Notes:\n",
       "[1] Standard Errors assume that the covariance matrix of the errors is correctly specified.\n",
       "[2] The condition number is large, 1.02e+04. This might indicate that there are\n",
       "strong multicollinearity or other numerical problems.\n",
       "\"\"\""
      ]
     },
     "execution_count": 23,
     "metadata": {},
     "output_type": "execute_result"
    }
   ],
   "source": [
    "ols_model.summary()"
   ]
  },
  {
   "cell_type": "markdown",
   "id": "9a89f223",
   "metadata": {},
   "source": [
    "#### Note: My p-values are <0.05, I can reject my null hypothesis. Significant relationship between tax_values and the independent variables I used."
   ]
  },
  {
   "cell_type": "code",
   "execution_count": 24,
   "id": "8690d4e5",
   "metadata": {},
   "outputs": [
    {
     "data": {
      "text/plain": [
       "201147.69679039976"
      ]
     },
     "execution_count": 24,
     "metadata": {},
     "output_type": "execute_result"
    }
   ],
   "source": [
    "rmse = sqrt(mean_squared_error(y_train.tax_value, y_train.yhat))\n",
    "rmse"
   ]
  },
  {
   "cell_type": "markdown",
   "id": "7adf4481",
   "metadata": {},
   "source": [
    "### Note: RMSE for OLS (linear regression) model with bedrooom, bathroom and square feet 201147 < the baseline 219730.  R2 is 0.15 and p-value is 0."
   ]
  },
  {
   "cell_type": "code",
   "execution_count": 25,
   "id": "e9b6b58a",
   "metadata": {},
   "outputs": [
    {
     "data": {
      "text/html": [
       "<div>\n",
       "<style scoped>\n",
       "    .dataframe tbody tr th:only-of-type {\n",
       "        vertical-align: middle;\n",
       "    }\n",
       "\n",
       "    .dataframe tbody tr th {\n",
       "        vertical-align: top;\n",
       "    }\n",
       "\n",
       "    .dataframe thead th {\n",
       "        text-align: right;\n",
       "    }\n",
       "</style>\n",
       "<table border=\"1\" class=\"dataframe\">\n",
       "  <thead>\n",
       "    <tr style=\"text-align: right;\">\n",
       "      <th></th>\n",
       "      <th>actual</th>\n",
       "    </tr>\n",
       "  </thead>\n",
       "  <tbody>\n",
       "    <tr>\n",
       "      <th>4192</th>\n",
       "      <td>875694</td>\n",
       "    </tr>\n",
       "    <tr>\n",
       "      <th>20164</th>\n",
       "      <td>390727</td>\n",
       "    </tr>\n",
       "    <tr>\n",
       "      <th>53874</th>\n",
       "      <td>508519</td>\n",
       "    </tr>\n",
       "    <tr>\n",
       "      <th>16009</th>\n",
       "      <td>434917</td>\n",
       "    </tr>\n",
       "    <tr>\n",
       "      <th>1816</th>\n",
       "      <td>499307</td>\n",
       "    </tr>\n",
       "  </tbody>\n",
       "</table>\n",
       "</div>"
      ],
      "text/plain": [
       "       actual\n",
       "4192   875694\n",
       "20164  390727\n",
       "53874  508519\n",
       "16009  434917\n",
       "1816   499307"
      ]
     },
     "execution_count": 25,
     "metadata": {},
     "output_type": "execute_result"
    }
   ],
   "source": [
    "# make a dataframe 'predictions' with actual tax_values\n",
    "predictions = pd.DataFrame({\n",
    "    'actual': y_train.tax_value\n",
    "})\n",
    "predictions.head()"
   ]
  },
  {
   "cell_type": "code",
   "execution_count": 26,
   "id": "14bd031f",
   "metadata": {},
   "outputs": [],
   "source": [
    "X_train1 = X_train[['bedrooms', 'bathrooms', 'square_feet']]\n",
    "y_train1 = y_train[['tax_value']]"
   ]
  },
  {
   "cell_type": "code",
   "execution_count": 27,
   "id": "682ef3ca",
   "metadata": {},
   "outputs": [
    {
     "name": "stdout",
     "output_type": "stream",
     "text": [
      "Linear Model: LinearRegression()\n",
      "intercept:  [159411.70440469]\n",
      "coefficients:  [[-33150.00099701  13428.74706187    172.39021469]]\n"
     ]
    }
   ],
   "source": [
    "#linear regression model\n",
    "lm = LinearRegression()\n",
    "# fit our train data on the model\n",
    "lm.fit(X_train1, y_train1)\n",
    "print(\"Linear Model:\", lm)\n",
    "print(\"intercept: \", lm.intercept_)\n",
    "print(\"coefficients: \", lm.coef_)"
   ]
  },
  {
   "cell_type": "code",
   "execution_count": 28,
   "id": "0019c199",
   "metadata": {},
   "outputs": [
    {
     "data": {
      "text/html": [
       "<div>\n",
       "<style scoped>\n",
       "    .dataframe tbody tr th:only-of-type {\n",
       "        vertical-align: middle;\n",
       "    }\n",
       "\n",
       "    .dataframe tbody tr th {\n",
       "        vertical-align: top;\n",
       "    }\n",
       "\n",
       "    .dataframe thead th {\n",
       "        text-align: right;\n",
       "    }\n",
       "</style>\n",
       "<table border=\"1\" class=\"dataframe\">\n",
       "  <thead>\n",
       "    <tr style=\"text-align: right;\">\n",
       "      <th></th>\n",
       "      <th>actual</th>\n",
       "      <th>yhat_lm</th>\n",
       "      <th>baseline</th>\n",
       "    </tr>\n",
       "  </thead>\n",
       "  <tbody>\n",
       "    <tr>\n",
       "      <th>4192</th>\n",
       "      <td>875694</td>\n",
       "      <td>462715.794623</td>\n",
       "      <td>380351.5</td>\n",
       "    </tr>\n",
       "    <tr>\n",
       "      <th>20164</th>\n",
       "      <td>390727</td>\n",
       "      <td>514631.783769</td>\n",
       "      <td>380351.5</td>\n",
       "    </tr>\n",
       "    <tr>\n",
       "      <th>53874</th>\n",
       "      <td>508519</td>\n",
       "      <td>554272.688304</td>\n",
       "      <td>380351.5</td>\n",
       "    </tr>\n",
       "  </tbody>\n",
       "</table>\n",
       "</div>"
      ],
      "text/plain": [
       "       actual        yhat_lm  baseline\n",
       "4192   875694  462715.794623  380351.5\n",
       "20164  390727  514631.783769  380351.5\n",
       "53874  508519  554272.688304  380351.5"
      ]
     },
     "execution_count": 28,
     "metadata": {},
     "output_type": "execute_result"
    }
   ],
   "source": [
    "#predictions from linear regresssion model based on X_train independent variable values\n",
    "predictions['yhat_lm'] = lm.predict(X_train1)\n",
    "#Baseline predicted home value (median home price)\n",
    "predictions['baseline'] = y_train.tax_value.median()\n",
    "predictions.head(3)"
   ]
  },
  {
   "cell_type": "code",
   "execution_count": 29,
   "id": "14ccc50d",
   "metadata": {},
   "outputs": [
    {
     "data": {
      "text/plain": [
       "actual          0.000\n",
       "yhat_lm    201147.697\n",
       "baseline   219730.810\n",
       "dtype: float64"
      ]
     },
     "execution_count": 29,
     "metadata": {},
     "output_type": "execute_result"
    }
   ],
   "source": [
    "# Use lamda and calculate RMSE for each columns in prediction dataframe\n",
    "pd.options.display.float_format = '{:.3f}'.format\n",
    "predictions.apply(lambda col: sqrt(mean_squared_error(predictions.actual, col)))"
   ]
  },
  {
   "cell_type": "code",
   "execution_count": 30,
   "id": "57b1481d",
   "metadata": {},
   "outputs": [
    {
     "data": {
      "text/plain": [
       "201147.69679039976"
      ]
     },
     "execution_count": 30,
     "metadata": {},
     "output_type": "execute_result"
    }
   ],
   "source": [
    "rmse"
   ]
  },
  {
   "cell_type": "code",
   "execution_count": 31,
   "id": "2aae4ac0",
   "metadata": {},
   "outputs": [
    {
     "data": {
      "text/plain": [
       "True"
      ]
     },
     "execution_count": 31,
     "metadata": {},
     "output_type": "execute_result"
    }
   ],
   "source": [
    "rmse < rmse_baseline"
   ]
  },
  {
   "cell_type": "markdown",
   "id": "a9748fcb",
   "metadata": {},
   "source": [
    "#### Note: RMSE performs better than baseline"
   ]
  },
  {
   "cell_type": "code",
   "execution_count": 32,
   "id": "e62c895f",
   "metadata": {},
   "outputs": [
    {
     "data": {
      "text/html": [
       "<div>\n",
       "<style scoped>\n",
       "    .dataframe tbody tr th:only-of-type {\n",
       "        vertical-align: middle;\n",
       "    }\n",
       "\n",
       "    .dataframe tbody tr th {\n",
       "        vertical-align: top;\n",
       "    }\n",
       "\n",
       "    .dataframe thead th {\n",
       "        text-align: right;\n",
       "    }\n",
       "</style>\n",
       "<table border=\"1\" class=\"dataframe\">\n",
       "  <thead>\n",
       "    <tr style=\"text-align: right;\">\n",
       "      <th></th>\n",
       "      <th>actual</th>\n",
       "      <th>test_prediction</th>\n",
       "    </tr>\n",
       "  </thead>\n",
       "  <tbody>\n",
       "    <tr>\n",
       "      <th>22322</th>\n",
       "      <td>125461</td>\n",
       "      <td>410550.329</td>\n",
       "    </tr>\n",
       "    <tr>\n",
       "      <th>20147</th>\n",
       "      <td>271828</td>\n",
       "      <td>533473.397</td>\n",
       "    </tr>\n",
       "    <tr>\n",
       "      <th>25653</th>\n",
       "      <td>246268</td>\n",
       "      <td>501055.192</td>\n",
       "    </tr>\n",
       "    <tr>\n",
       "      <th>47236</th>\n",
       "      <td>145492</td>\n",
       "      <td>262674.904</td>\n",
       "    </tr>\n",
       "    <tr>\n",
       "      <th>14712</th>\n",
       "      <td>464798</td>\n",
       "      <td>444650.201</td>\n",
       "    </tr>\n",
       "  </tbody>\n",
       "</table>\n",
       "</div>"
      ],
      "text/plain": [
       "       actual  test_prediction\n",
       "22322  125461       410550.329\n",
       "20147  271828       533473.397\n",
       "25653  246268       501055.192\n",
       "47236  145492       262674.904\n",
       "14712  464798       444650.201"
      ]
     },
     "execution_count": 32,
     "metadata": {},
     "output_type": "execute_result"
    }
   ],
   "source": [
    "#using test data and predicting tax values based on linear model above\n",
    "X_test = test[['bedrooms', 'bathrooms', 'square_feet']]\n",
    "y_test = test[['tax_value']]\n",
    "y_test['test_prediction'] = lm.predict(X_test)\n",
    "y_test.rename(columns = {'tax_value': 'actual'}, inplace = True)\n",
    "y_test.head()"
   ]
  },
  {
   "cell_type": "code",
   "execution_count": 33,
   "id": "de86e6fc",
   "metadata": {},
   "outputs": [
    {
     "data": {
      "text/plain": [
       "actual                 0.000\n",
       "test_prediction   195380.121\n",
       "dtype: float64"
      ]
     },
     "execution_count": 33,
     "metadata": {},
     "output_type": "execute_result"
    }
   ],
   "source": [
    "#Calculating RMSE for test predictions\n",
    "y_test.apply(lambda col: sqrt(mean_squared_error(y_test.actual, col)))"
   ]
  },
  {
   "cell_type": "code",
   "execution_count": 34,
   "id": "74ffb38b",
   "metadata": {},
   "outputs": [
    {
     "data": {
      "text/plain": [
       "219730.81030193748"
      ]
     },
     "execution_count": 34,
     "metadata": {},
     "output_type": "execute_result"
    }
   ],
   "source": [
    "#compare baseline\n",
    "rmse_baseline"
   ]
  },
  {
   "cell_type": "markdown",
   "id": "a49519d1",
   "metadata": {},
   "source": [
    "### RMSE for test data is lower than train data and shows LM is better than baseline."
   ]
  },
  {
   "cell_type": "markdown",
   "id": "ca0f7a45",
   "metadata": {},
   "source": [
    "### LassoLars Model"
   ]
  },
  {
   "cell_type": "code",
   "execution_count": 35,
   "id": "9a8d5099",
   "metadata": {},
   "outputs": [
    {
     "data": {
      "text/html": [
       "<div>\n",
       "<style scoped>\n",
       "    .dataframe tbody tr th:only-of-type {\n",
       "        vertical-align: middle;\n",
       "    }\n",
       "\n",
       "    .dataframe tbody tr th {\n",
       "        vertical-align: top;\n",
       "    }\n",
       "\n",
       "    .dataframe thead th {\n",
       "        text-align: right;\n",
       "    }\n",
       "</style>\n",
       "<table border=\"1\" class=\"dataframe\">\n",
       "  <thead>\n",
       "    <tr style=\"text-align: right;\">\n",
       "      <th></th>\n",
       "      <th>tax_value</th>\n",
       "      <th>y_baseline</th>\n",
       "      <th>yhat</th>\n",
       "      <th>lars_train_pred</th>\n",
       "    </tr>\n",
       "  </thead>\n",
       "  <tbody>\n",
       "    <tr>\n",
       "      <th>4192</th>\n",
       "      <td>875694</td>\n",
       "      <td>380351.500</td>\n",
       "      <td>462715.795</td>\n",
       "      <td>798435.898</td>\n",
       "    </tr>\n",
       "    <tr>\n",
       "      <th>20164</th>\n",
       "      <td>390727</td>\n",
       "      <td>380351.500</td>\n",
       "      <td>514631.784</td>\n",
       "      <td>388502.455</td>\n",
       "    </tr>\n",
       "    <tr>\n",
       "      <th>53874</th>\n",
       "      <td>508519</td>\n",
       "      <td>380351.500</td>\n",
       "      <td>554272.688</td>\n",
       "      <td>502921.228</td>\n",
       "    </tr>\n",
       "  </tbody>\n",
       "</table>\n",
       "</div>"
      ],
      "text/plain": [
       "       tax_value  y_baseline       yhat  lars_train_pred\n",
       "4192      875694  380351.500 462715.795       798435.898\n",
       "20164     390727  380351.500 514631.784       388502.455\n",
       "53874     508519  380351.500 554272.688       502921.228"
      ]
     },
     "execution_count": 35,
     "metadata": {},
     "output_type": "execute_result"
    }
   ],
   "source": [
    "# create model object\n",
    "lars = LassoLars(alpha=1.0)\n",
    "# assign x_train/x_validate\n",
    "x_train = train.drop(columns = ['tax_value','county','transaction_date'])\n",
    "x_validate = validate.drop(columns = ['tax_value','county','transaction_date'])\n",
    "# fit the model to our training data. Specify the column in y_train.\n",
    "lars.fit(x_train, y_train['tax_value'])\n",
    "# predict train\n",
    "y_train['lars_train_pred'] = lars.predict(x_train)\n",
    "# predict validate\n",
    "y_validate['lars_validate_pred'] = lars.predict(x_validate)\n",
    "y_train.head(3)"
   ]
  },
  {
   "cell_type": "markdown",
   "id": "eb8c0b9c",
   "metadata": {},
   "source": [
    "### TweedieRegressor (GLM)"
   ]
  },
  {
   "cell_type": "code",
   "execution_count": 36,
   "id": "69a83c92",
   "metadata": {},
   "outputs": [
    {
     "data": {
      "text/html": [
       "<div>\n",
       "<style scoped>\n",
       "    .dataframe tbody tr th:only-of-type {\n",
       "        vertical-align: middle;\n",
       "    }\n",
       "\n",
       "    .dataframe tbody tr th {\n",
       "        vertical-align: top;\n",
       "    }\n",
       "\n",
       "    .dataframe thead th {\n",
       "        text-align: right;\n",
       "    }\n",
       "</style>\n",
       "<table border=\"1\" class=\"dataframe\">\n",
       "  <thead>\n",
       "    <tr style=\"text-align: right;\">\n",
       "      <th></th>\n",
       "      <th>tax_value</th>\n",
       "      <th>y_baseline</th>\n",
       "      <th>yhat</th>\n",
       "      <th>lars_train_pred</th>\n",
       "      <th>twr_train_pred</th>\n",
       "    </tr>\n",
       "  </thead>\n",
       "  <tbody>\n",
       "    <tr>\n",
       "      <th>4192</th>\n",
       "      <td>875694</td>\n",
       "      <td>380351.500</td>\n",
       "      <td>462715.795</td>\n",
       "      <td>798435.898</td>\n",
       "      <td>778412.618</td>\n",
       "    </tr>\n",
       "    <tr>\n",
       "      <th>20164</th>\n",
       "      <td>390727</td>\n",
       "      <td>380351.500</td>\n",
       "      <td>514631.784</td>\n",
       "      <td>388502.455</td>\n",
       "      <td>367006.310</td>\n",
       "    </tr>\n",
       "    <tr>\n",
       "      <th>53874</th>\n",
       "      <td>508519</td>\n",
       "      <td>380351.500</td>\n",
       "      <td>554272.688</td>\n",
       "      <td>502921.228</td>\n",
       "      <td>468590.258</td>\n",
       "    </tr>\n",
       "  </tbody>\n",
       "</table>\n",
       "</div>"
      ],
      "text/plain": [
       "       tax_value  y_baseline       yhat  lars_train_pred  twr_train_pred\n",
       "4192      875694  380351.500 462715.795       798435.898      778412.618\n",
       "20164     390727  380351.500 514631.784       388502.455      367006.310\n",
       "53874     508519  380351.500 554272.688       502921.228      468590.258"
      ]
     },
     "execution_count": 36,
     "metadata": {},
     "output_type": "execute_result"
    }
   ],
   "source": [
    "# create the model object\n",
    "twr = TweedieRegressor()\n",
    "# fit the model to our training data. Specify the column in y_train\n",
    "twr.fit(x_train, y_train['tax_value'])\n",
    "# predict train\n",
    "y_train['twr_train_pred'] = twr.predict(x_train)\n",
    "# predict validate\n",
    "y_validate['twr_validate_pred'] = twr.predict(x_validate)\n",
    "y_train.head(3)"
   ]
  },
  {
   "cell_type": "markdown",
   "id": "934f2e92",
   "metadata": {},
   "source": [
    "# Conclusion"
   ]
  },
  {
   "cell_type": "markdown",
   "id": "ea8b9a5e",
   "metadata": {},
   "source": [
    "#### Identified drivers that affect total tax assessed value for property transactions in 2017 for Los Angeles, Orange, and Ventura counties.\n",
    "    - found that square_footage, bedroom and bathroom count are drivers for market value of single unit properties.\n",
    "    - LM performed better than baseline with drivers described above.\n",
    "    - Los Angeles County has the highest tax rate of all three counties.\n",
    "    \n",
    "#### Note: If I had more time, I would explore additional features and compare findings to different years."
   ]
  },
  {
   "cell_type": "code",
   "execution_count": null,
   "id": "25ff4d02",
   "metadata": {},
   "outputs": [],
   "source": []
  }
 ],
 "metadata": {
  "kernelspec": {
   "display_name": "Python 3 (ipykernel)",
   "language": "python",
   "name": "python3"
  },
  "language_info": {
   "codemirror_mode": {
    "name": "ipython",
    "version": 3
   },
   "file_extension": ".py",
   "mimetype": "text/x-python",
   "name": "python",
   "nbconvert_exporter": "python",
   "pygments_lexer": "ipython3",
   "version": "3.9.7"
  }
 },
 "nbformat": 4,
 "nbformat_minor": 5
}
