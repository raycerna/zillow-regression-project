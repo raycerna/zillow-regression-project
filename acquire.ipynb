{
 "cells": [
  {
   "cell_type": "code",
   "execution_count": 1,
   "id": "5e8a4c26",
   "metadata": {},
   "outputs": [],
   "source": [
    "import pandas as pd\n",
    "import numpy as np\n",
    "import seaborn as sns\n",
    "import matplotlib.pyplot as plt\n",
    "from env import get_db_url"
   ]
  },
  {
   "cell_type": "markdown",
   "id": "82dc466c",
   "metadata": {},
   "source": [
    "# Acquire data from SQL database"
   ]
  },
  {
   "cell_type": "code",
   "execution_count": 2,
   "id": "eda78e5e",
   "metadata": {},
   "outputs": [
    {
     "data": {
      "text/html": [
       "<div>\n",
       "<style scoped>\n",
       "    .dataframe tbody tr th:only-of-type {\n",
       "        vertical-align: middle;\n",
       "    }\n",
       "\n",
       "    .dataframe tbody tr th {\n",
       "        vertical-align: top;\n",
       "    }\n",
       "\n",
       "    .dataframe thead th {\n",
       "        text-align: right;\n",
       "    }\n",
       "</style>\n",
       "<table border=\"1\" class=\"dataframe\">\n",
       "  <thead>\n",
       "    <tr style=\"text-align: right;\">\n",
       "      <th></th>\n",
       "      <th>bedrooms</th>\n",
       "      <th>bathrooms</th>\n",
       "      <th>square_feet</th>\n",
       "      <th>lot_size</th>\n",
       "      <th>pool</th>\n",
       "      <th>zip_code</th>\n",
       "      <th>fips</th>\n",
       "      <th>year_built</th>\n",
       "      <th>latitude</th>\n",
       "      <th>longitude</th>\n",
       "      <th>assessed_value</th>\n",
       "      <th>tax_value</th>\n",
       "      <th>transaction_date</th>\n",
       "    </tr>\n",
       "  </thead>\n",
       "  <tbody>\n",
       "    <tr>\n",
       "      <th>0</th>\n",
       "      <td>4.0</td>\n",
       "      <td>2.0</td>\n",
       "      <td>3633.0</td>\n",
       "      <td>9826.0</td>\n",
       "      <td>NaN</td>\n",
       "      <td>97329.0</td>\n",
       "      <td>6037.0</td>\n",
       "      <td>2005.0</td>\n",
       "      <td>34560018.0</td>\n",
       "      <td>-118169806.0</td>\n",
       "      <td>296425.0</td>\n",
       "      <td>6941.39</td>\n",
       "      <td>2017-01-02</td>\n",
       "    </tr>\n",
       "    <tr>\n",
       "      <th>1</th>\n",
       "      <td>3.0</td>\n",
       "      <td>4.0</td>\n",
       "      <td>1620.0</td>\n",
       "      <td>NaN</td>\n",
       "      <td>NaN</td>\n",
       "      <td>96047.0</td>\n",
       "      <td>6037.0</td>\n",
       "      <td>2011.0</td>\n",
       "      <td>33996200.0</td>\n",
       "      <td>-118438000.0</td>\n",
       "      <td>847770.0</td>\n",
       "      <td>10244.94</td>\n",
       "      <td>2017-01-02</td>\n",
       "    </tr>\n",
       "    <tr>\n",
       "      <th>2</th>\n",
       "      <td>3.0</td>\n",
       "      <td>2.0</td>\n",
       "      <td>2077.0</td>\n",
       "      <td>6490.0</td>\n",
       "      <td>NaN</td>\n",
       "      <td>96152.0</td>\n",
       "      <td>6037.0</td>\n",
       "      <td>1926.0</td>\n",
       "      <td>34012977.0</td>\n",
       "      <td>-118479243.0</td>\n",
       "      <td>646760.0</td>\n",
       "      <td>7924.68</td>\n",
       "      <td>2017-01-02</td>\n",
       "    </tr>\n",
       "    <tr>\n",
       "      <th>3</th>\n",
       "      <td>3.0</td>\n",
       "      <td>1.0</td>\n",
       "      <td>1244.0</td>\n",
       "      <td>6021.0</td>\n",
       "      <td>NaN</td>\n",
       "      <td>96201.0</td>\n",
       "      <td>6037.0</td>\n",
       "      <td>1950.0</td>\n",
       "      <td>33953559.0</td>\n",
       "      <td>-118083855.0</td>\n",
       "      <td>169471.0</td>\n",
       "      <td>2532.88</td>\n",
       "      <td>2017-01-03</td>\n",
       "    </tr>\n",
       "    <tr>\n",
       "      <th>4</th>\n",
       "      <td>3.0</td>\n",
       "      <td>2.0</td>\n",
       "      <td>1300.0</td>\n",
       "      <td>4917.0</td>\n",
       "      <td>NaN</td>\n",
       "      <td>96193.0</td>\n",
       "      <td>6037.0</td>\n",
       "      <td>1950.0</td>\n",
       "      <td>33897134.0</td>\n",
       "      <td>-118102953.0</td>\n",
       "      <td>233266.0</td>\n",
       "      <td>3110.99</td>\n",
       "      <td>2017-01-03</td>\n",
       "    </tr>\n",
       "  </tbody>\n",
       "</table>\n",
       "</div>"
      ],
      "text/plain": [
       "   bedrooms  bathrooms  square_feet  lot_size  pool  zip_code    fips  \\\n",
       "0       4.0        2.0       3633.0    9826.0   NaN   97329.0  6037.0   \n",
       "1       3.0        4.0       1620.0       NaN   NaN   96047.0  6037.0   \n",
       "2       3.0        2.0       2077.0    6490.0   NaN   96152.0  6037.0   \n",
       "3       3.0        1.0       1244.0    6021.0   NaN   96201.0  6037.0   \n",
       "4       3.0        2.0       1300.0    4917.0   NaN   96193.0  6037.0   \n",
       "\n",
       "   year_built    latitude    longitude  assessed_value  tax_value  \\\n",
       "0      2005.0  34560018.0 -118169806.0        296425.0    6941.39   \n",
       "1      2011.0  33996200.0 -118438000.0        847770.0   10244.94   \n",
       "2      1926.0  34012977.0 -118479243.0        646760.0    7924.68   \n",
       "3      1950.0  33953559.0 -118083855.0        169471.0    2532.88   \n",
       "4      1950.0  33897134.0 -118102953.0        233266.0    3110.99   \n",
       "\n",
       "  transaction_date  \n",
       "0       2017-01-02  \n",
       "1       2017-01-02  \n",
       "2       2017-01-02  \n",
       "3       2017-01-03  \n",
       "4       2017-01-03  "
      ]
     },
     "execution_count": 2,
     "metadata": {},
     "output_type": "execute_result"
    }
   ],
   "source": [
    "# Find all of the \"Single Family Residential\" properties from 2017.\n",
    "sql = \"\"\"\n",
    "SELECT bedroomcnt AS bedrooms, bathroomcnt AS bathrooms, `calculatedfinishedsquarefeet` AS square_feet,  \n",
    "`lotsizesquarefeet` AS lot_size, poolcnt AS pool, `regionidzip` AS zip_code, fips, yearbuilt AS year_built, latitude, \n",
    "longitude,`taxvaluedollarcnt` AS assessed_value, `taxamount` AS tax_value, transactiondate AS transaction_date\n",
    "FROM properties_2017\n",
    "JOIN predictions_2017 USING (id)\n",
    "WHERE propertylandusetypeid = 261 AND bedroomcnt > 0 AND bathroomcnt > 0\n",
    "AND transactiondate >= '2017-01-01' AND transactiondate <= '2017-12-32'\n",
    "\"\"\"\n",
    "# added single family properties and inferred single family properties and removed properities\n",
    "# without bedrooms and bathrooms\n",
    "df = pd.read_sql(sql, get_db_url(\"zillow\"))\n",
    "df.head()"
   ]
  },
  {
   "cell_type": "code",
   "execution_count": 3,
   "id": "d79c231b",
   "metadata": {},
   "outputs": [
    {
     "data": {
      "text/plain": [
       "(55692, 13)"
      ]
     },
     "execution_count": 3,
     "metadata": {},
     "output_type": "execute_result"
    }
   ],
   "source": [
    "# Shows me how many rows and columns\n",
    "df.shape"
   ]
  },
  {
   "cell_type": "code",
   "execution_count": 4,
   "id": "48f491d0",
   "metadata": {},
   "outputs": [
    {
     "data": {
      "text/plain": [
       "Index(['bedrooms', 'bathrooms', 'square_feet', 'lot_size', 'pool', 'zip_code',\n",
       "       'fips', 'year_built', 'latitude', 'longitude', 'assessed_value',\n",
       "       'tax_value', 'transaction_date'],\n",
       "      dtype='object')"
      ]
     },
     "execution_count": 4,
     "metadata": {},
     "output_type": "execute_result"
    }
   ],
   "source": [
    "# List the columns\n",
    "df.columns"
   ]
  },
  {
   "cell_type": "code",
   "execution_count": 5,
   "id": "0b0f5780",
   "metadata": {},
   "outputs": [
    {
     "data": {
      "text/plain": [
       "bedrooms                0\n",
       "bathrooms               0\n",
       "square_feet             5\n",
       "lot_size              300\n",
       "pool                44757\n",
       "zip_code               64\n",
       "fips                    0\n",
       "year_built             29\n",
       "latitude                0\n",
       "longitude               0\n",
       "assessed_value          2\n",
       "tax_value              72\n",
       "transaction_date        0\n",
       "dtype: int64"
      ]
     },
     "execution_count": 5,
     "metadata": {},
     "output_type": "execute_result"
    }
   ],
   "source": [
    "# Shows me how many nulls are in each column\n",
    "df.isnull().sum()"
   ]
  },
  {
   "cell_type": "code",
   "execution_count": 8,
   "id": "b6f8584b",
   "metadata": {},
   "outputs": [
    {
     "name": "stdout",
     "output_type": "stream",
     "text": [
      "bedrooms\n",
      "0\n",
      "0.0\n",
      "1.0\n",
      "25.0\n",
      "bathrooms\n",
      "0\n",
      "0.0\n",
      "1.0\n",
      "20.0\n",
      "square_feet\n",
      "5\n",
      "0.008977950154420744\n",
      "320.0\n",
      "26345.0\n",
      "lot_size\n",
      "300\n",
      "0.5386770092652445\n",
      "500.0\n",
      "6971010.0\n",
      "pool\n",
      "44757\n",
      "80.36522301228185\n",
      "1.0\n",
      "1.0\n",
      "zip_code\n",
      "64\n",
      "0.11491776197658551\n",
      "95982.0\n",
      "399675.0\n",
      "fips\n",
      "0\n",
      "0.0\n",
      "6037.0\n",
      "6111.0\n",
      "year_built\n",
      "29\n",
      "0.05207211089564031\n",
      "1862.0\n",
      "2016.0\n",
      "latitude\n",
      "0\n",
      "0.0\n",
      "33340711.0\n",
      "34806946.0\n",
      "longitude\n",
      "0\n",
      "0.0\n",
      "-119448392.0\n",
      "-117555933.0\n",
      "assessed_value\n",
      "2\n",
      "0.0035911800617682973\n",
      "7584.0\n",
      "30166843.0\n",
      "tax_value\n",
      "72\n",
      "0.12928248222365868\n",
      "20.24\n",
      "342940.38\n",
      "transaction_date\n",
      "0\n",
      "0.0\n",
      "2017-01-02\n",
      "2017-09-21\n"
     ]
    }
   ],
   "source": [
    "# List all the columns, how many nulls are in each column, the percentage of nulls, and min and max of each column.\n",
    "for col in df.columns:\n",
    "    print(col)\n",
    "    print(df[col].isnull().sum())\n",
    "    print((df[col].isnull().sum()/55692)*100)\n",
    "    print(df[col].min())\n",
    "    print(df[col].max())"
   ]
  }
 ],
 "metadata": {
  "kernelspec": {
   "display_name": "Python 3 (ipykernel)",
   "language": "python",
   "name": "python3"
  },
  "language_info": {
   "codemirror_mode": {
    "name": "ipython",
    "version": 3
   },
   "file_extension": ".py",
   "mimetype": "text/x-python",
   "name": "python",
   "nbconvert_exporter": "python",
   "pygments_lexer": "ipython3",
   "version": "3.9.7"
  }
 },
 "nbformat": 4,
 "nbformat_minor": 5
}
